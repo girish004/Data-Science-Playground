{
 "cells": [
  {
   "cell_type": "markdown",
   "metadata": {},
   "source": [
    "### Use sklearn and hard coded KNN and Weighted KNN function to classify the generated synthetic data"
   ]
  },
  {
   "cell_type": "markdown",
   "metadata": {},
   "source": [
    "### Importing the libraries"
   ]
  },
  {
   "cell_type": "code",
   "execution_count": 91,
   "metadata": {},
   "outputs": [],
   "source": [
    "import numpy as np\n",
    "import pandas as pd\n",
    "from sklearn.datasets import make_blobs\n",
    "from sklearn.datasets import make_blobs\n",
    "from matplotlib import pyplot\n",
    "from pandas import DataFrame\n",
    "from sklearn.model_selection import train_test_split"
   ]
  },
  {
   "cell_type": "markdown",
   "metadata": {},
   "source": [
    "### Generating a synthetic dataset"
   ]
  },
  {
   "cell_type": "code",
   "execution_count": 92,
   "metadata": {},
   "outputs": [
    {
     "name": "stdout",
     "output_type": "stream",
     "text": [
      "[0 1 0 1 0 0 0 1 1 1 2 0 0 2 0 1 2 1 2 1 2 2 2 0 1 2 0 2 1 2]\n",
      "           x         y  label\n",
      "0  -0.282571  7.852861      0\n",
      "1  -1.642489 -3.012940      1\n",
      "2   1.656480  8.207479      0\n",
      "3  -5.156198 -2.180306      1\n",
      "4   0.954440  6.450046      0\n",
      "5   1.865663  9.072243      0\n",
      "6   2.211188  8.165970      0\n",
      "7  -3.668626  0.004571      1\n",
      "8  -3.333111 -3.478887      1\n",
      "9  -3.126774 -0.720452      1\n",
      "10  6.838267 -2.917652      2\n",
      "11  1.539031  7.859772      0\n",
      "12  1.108947  9.024002      0\n",
      "13  5.771467 -2.457150      2\n",
      "14  0.839320  7.778068      0\n",
      "15 -1.749793 -1.273353      1\n",
      "16  6.469382 -3.597305      2\n",
      "17 -2.419080 -1.581195      1\n",
      "18  6.831757 -2.323580      2\n",
      "19 -1.935471 -2.333679      1\n",
      "20  6.687910 -3.190622      2\n",
      "21  4.885488 -1.462693      2\n",
      "22  5.834700 -4.101215      2\n",
      "23  1.214445  7.767897      0\n",
      "24 -2.900230 -1.863599      1\n",
      "25  6.160136 -4.355181      2\n",
      "26  0.344886  6.351534      0\n",
      "27  6.892433 -1.215283      2\n",
      "28 -2.187913 -1.726352      1\n",
      "29  5.667715 -2.580347      2\n"
     ]
    },
    {
     "data": {
      "image/png": "[encoded data removed]",
      "text/plain": [
       "<Figure size 432x288 with 1 Axes>"
      ]
     },
     "metadata": {
      "needs_background": "light"
     },
     "output_type": "display_data"
    }
   ],
   "source": [
    "X, y = make_blobs(n_samples=30, centers=3, n_features=2)\n",
    "print(y)\n",
    "df = DataFrame(dict(x=X[:,0], y=X[:,1], label=y))\n",
    "print(df)\n",
    "colors = {0:'red', 1:'blue', 2:'green'}\n",
    "fig, ax = pyplot.subplots()\n",
    "grouped = df.groupby('label')\n",
    "for key, group in grouped:\n",
    "    group.plot(ax=ax, kind='scatter', x='x', y='y', label=key, color=colors[key])\n",
    "pyplot.show()"
   ]
  },
  {
   "cell_type": "markdown",
   "metadata": {},
   "source": [
    "### Splitting the training and testing dataset"
   ]
  },
  {
   "cell_type": "code",
   "execution_count": 93,
   "metadata": {},
   "outputs": [],
   "source": [
    "X_train, X_test, y_train, y_test = train_test_split(X, y, random_state = 42, test_size = 0.2)"
   ]
  },
  {
   "cell_type": "markdown",
   "metadata": {},
   "source": [
    "### Writing the algorithm for KNN algorithm"
   ]
  },
  {
   "cell_type": "code",
   "execution_count": 94,
   "metadata": {},
   "outputs": [],
   "source": [
    "def dist(a, b, p=1):\n",
    "    dim = len(a)\n",
    "    distance = 0\n",
    "    for d in range(dim):\n",
    "        distance += abs(a[d] - b[d])**p\n",
    "    distance = distance**(1/p)\n",
    "    return distance\n",
    "def knn_predict(X_train, X_test, y_train, k, p):\n",
    "    from collections import Counter\n",
    "    y_hat_test = []\n",
    "    for test_point in X_test:\n",
    "        distances = []\n",
    "        for train_point in X_train:\n",
    "            distance = dist(test_point, train_point, p=p)\n",
    "            distances.append(distance)\n",
    "        df_dists = pd.DataFrame(data=distances, columns=['dist']) \n",
    "        df_nn = df_dists.sort_values(by=['dist'], axis=0)[:k]\n",
    "        counter = Counter(y_train[df_nn.index])\n",
    "        prediction = counter.most_common()[0][0]\n",
    "        y_hat_test.append(prediction)\n",
    "    return y_hat_test"
   ]
  },
  {
   "cell_type": "markdown",
   "metadata": {},
   "source": [
    "### Testing the algorithm with generated data"
   ]
  },
  {
   "cell_type": "code",
   "execution_count": 95,
   "metadata": {},
   "outputs": [
    {
     "name": "stdout",
     "output_type": "stream",
     "text": [
      "   Actual  Predicted\n",
      "0       2          2\n",
      "1       1          1\n",
      "2       0          0\n",
      "3       1          1\n",
      "4       1          1\n",
      "5       1          1\n",
      "Accuracy is:  1.0\n"
     ]
    }
   ],
   "source": [
    "pred=knn_predict(X_train, X_test, y_train, k=5, p=1)\n",
    "from sklearn.metrics import accuracy_score\n",
    "data={\"Actual\":y_test,\"Predicted\":pred}\n",
    "ans=pd.DataFrame(data)\n",
    "print(ans)\n",
    "print(\"Accuracy is: \",accuracy_score(y_test, pred))"
   ]
  },
  {
   "cell_type": "markdown",
   "metadata": {},
   "source": [
    "### Writing the algorithm for Weighted KNN"
   ]
  },
  {
   "cell_type": "code",
   "execution_count": 96,
   "metadata": {},
   "outputs": [],
   "source": [
    "def weighted_knn_predict(X_train, X_test, y_train, k, p):\n",
    "    y_hat_test = []\n",
    "    for test_point in X_test:\n",
    "        distances = []\n",
    "        for train_point in X_train:\n",
    "            wdistance = dist(test_point, train_point, p=p)\n",
    "            distances.append(wdistance)\n",
    "        df_dists = pd.DataFrame(data=distances, columns=['dist']) \n",
    "        df_nn = df_dists.sort_values(by=['dist'], axis=0)[:k]\n",
    "        tempsum=0\n",
    "        for i in df_nn.index:\n",
    "            df_nn.at[int(i),\"dist\"]=1/df_nn.at[int(i),\"dist\"]\n",
    "            tempsum=tempsum+df_nn.at[int(i),\"dist\"]\n",
    "        for i in df_nn.index:\n",
    "            df_nn.at[int(i),\"dist\"]=df_nn.at[int(i),\"dist\"]/tempsum\n",
    "        ans={}\n",
    "        for i in df_nn.index:\n",
    "            ans[y_train[int(i)]]=0\n",
    "        for i in df_nn.index:\n",
    "            ans[y_train[int(i)]]=ans[y_train[int(i)]]+df_nn.at[int(i),\"dist\"]\n",
    "        all_values = ans.values()\n",
    "        max_value = max(all_values)\n",
    "        prediction=1\n",
    "        for i in ans:\n",
    "            if(ans[i]==max_value):\n",
    "                prediction=i\n",
    "        y_hat_test.append(prediction)\n",
    "    return y_hat_test"
   ]
  },
  {
   "cell_type": "markdown",
   "metadata": {},
   "source": [
    "### Testing the algorithm with generated data"
   ]
  },
  {
   "cell_type": "code",
   "execution_count": 97,
   "metadata": {},
   "outputs": [
    {
     "name": "stdout",
     "output_type": "stream",
     "text": [
      "   Actual  Predicted\n",
      "0       2          2\n",
      "1       1          1\n",
      "2       0          0\n",
      "3       1          1\n",
      "4       1          1\n",
      "5       1          1\n",
      "Accuracy is:  1.0\n"
     ]
    }
   ],
   "source": [
    "pred=weighted_knn_predict(X_train, X_test, y_train, k=5, p=1)\n",
    "from sklearn.metrics import accuracy_score\n",
    "data={\"Actual\":y_test,\"Predicted\":pred}\n",
    "ans=pd.DataFrame(data)\n",
    "print(ans)\n",
    "print(\"Accuracy is: \",accuracy_score(y_test, pred))"
   ]
  }
 ],
 "metadata": {
  "interpreter": {
   "hash": "ed225720166559e7176d3793db16a2fd8d295f725007103b21ac3099d2a89ee8"
  },
  "kernelspec": {
   "display_name": "Python 3",
   "language": "python",
   "name": "python3"
  },
  "language_info": {
   "codemirror_mode": {
    "name": "ipython",
    "version": 3
   },
   "file_extension": ".py",
   "mimetype": "text/x-python",
   "name": "python",
   "nbconvert_exporter": "python",
   "pygments_lexer": "ipython3",
   "version": "3.8.8"
  }
 },
 "nbformat": 4,
 "nbformat_minor": 2
}
