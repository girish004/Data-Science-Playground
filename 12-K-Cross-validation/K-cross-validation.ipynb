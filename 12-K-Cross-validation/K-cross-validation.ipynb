{
 "cells": [
  {
   "cell_type": "markdown",
   "metadata": {},
   "source": [
    "### Importing the required libraries"
   ]
  },
  {
   "cell_type": "code",
   "execution_count": 34,
   "metadata": {},
   "outputs": [],
   "source": [
    "import numpy as np\n",
    "import pandas as pd\n",
    "import matplotlib.pyplot as plt\n",
    "%matplotlib inline\n",
    "from sklearn.datasets import make_classification\n",
    "from sklearn.metrics import classification_report\n",
    "from sklearn.model_selection import train_test_split\n",
    "from sklearn.metrics import accuracy_score\n",
    "from sklearn.neighbors import KNeighborsClassifier\n",
    "from sklearn.model_selection import cross_val_score\n",
    "from sklearn.naive_bayes import GaussianNB\n",
    "from sklearn.ensemble import StackingClassifier\n",
    "from sklearn.linear_model import LogisticRegression"
   ]
  },
  {
   "cell_type": "markdown",
   "metadata": {},
   "source": [
    "### Synthetic data generation"
   ]
  },
  {
   "cell_type": "code",
   "execution_count": 35,
   "metadata": {},
   "outputs": [],
   "source": [
    "X,y=make_classification(200, 2, shuffle=True, n_redundant=0, n_classes=2)"
   ]
  },
  {
   "cell_type": "markdown",
   "metadata": {},
   "source": [
    "### Printing the shape and making a dataframe"
   ]
  },
  {
   "cell_type": "code",
   "execution_count": 36,
   "metadata": {},
   "outputs": [
    {
     "name": "stdout",
     "output_type": "stream",
     "text": [
      "(200, 2)\n",
      "(200,)\n"
     ]
    },
    {
     "data": {
      "text/html": [
       "<div>\n",
       "<style scoped>\n",
       "    .dataframe tbody tr th:only-of-type {\n",
       "        vertical-align: middle;\n",
       "    }\n",
       "\n",
       "    .dataframe tbody tr th {\n",
       "        vertical-align: top;\n",
       "    }\n",
       "\n",
       "    .dataframe thead th {\n",
       "        text-align: right;\n",
       "    }\n",
       "</style>\n",
       "<table border=\"1\" class=\"dataframe\">\n",
       "  <thead>\n",
       "    <tr style=\"text-align: right;\">\n",
       "      <th></th>\n",
       "      <th>x1</th>\n",
       "      <th>x2</th>\n",
       "      <th>y</th>\n",
       "    </tr>\n",
       "  </thead>\n",
       "  <tbody>\n",
       "    <tr>\n",
       "      <th>0</th>\n",
       "      <td>0.793503</td>\n",
       "      <td>1.450951</td>\n",
       "      <td>1</td>\n",
       "    </tr>\n",
       "    <tr>\n",
       "      <th>1</th>\n",
       "      <td>1.040914</td>\n",
       "      <td>0.276986</td>\n",
       "      <td>0</td>\n",
       "    </tr>\n",
       "    <tr>\n",
       "      <th>2</th>\n",
       "      <td>0.852074</td>\n",
       "      <td>0.879486</td>\n",
       "      <td>1</td>\n",
       "    </tr>\n",
       "    <tr>\n",
       "      <th>3</th>\n",
       "      <td>1.375618</td>\n",
       "      <td>-1.049736</td>\n",
       "      <td>1</td>\n",
       "    </tr>\n",
       "    <tr>\n",
       "      <th>4</th>\n",
       "      <td>1.478016</td>\n",
       "      <td>1.095887</td>\n",
       "      <td>1</td>\n",
       "    </tr>\n",
       "    <tr>\n",
       "      <th>...</th>\n",
       "      <td>...</td>\n",
       "      <td>...</td>\n",
       "      <td>...</td>\n",
       "    </tr>\n",
       "    <tr>\n",
       "      <th>195</th>\n",
       "      <td>-3.190290</td>\n",
       "      <td>2.112151</td>\n",
       "      <td>0</td>\n",
       "    </tr>\n",
       "    <tr>\n",
       "      <th>196</th>\n",
       "      <td>0.434181</td>\n",
       "      <td>0.766931</td>\n",
       "      <td>0</td>\n",
       "    </tr>\n",
       "    <tr>\n",
       "      <th>197</th>\n",
       "      <td>-0.619929</td>\n",
       "      <td>-0.043078</td>\n",
       "      <td>0</td>\n",
       "    </tr>\n",
       "    <tr>\n",
       "      <th>198</th>\n",
       "      <td>1.416421</td>\n",
       "      <td>-0.624472</td>\n",
       "      <td>1</td>\n",
       "    </tr>\n",
       "    <tr>\n",
       "      <th>199</th>\n",
       "      <td>1.971650</td>\n",
       "      <td>0.539546</td>\n",
       "      <td>1</td>\n",
       "    </tr>\n",
       "  </tbody>\n",
       "</table>\n",
       "<p>200 rows × 3 columns</p>\n",
       "</div>"
      ],
      "text/plain": [
       "           x1        x2  y\n",
       "0    0.793503  1.450951  1\n",
       "1    1.040914  0.276986  0\n",
       "2    0.852074  0.879486  1\n",
       "3    1.375618 -1.049736  1\n",
       "4    1.478016  1.095887  1\n",
       "..        ...       ... ..\n",
       "195 -3.190290  2.112151  0\n",
       "196  0.434181  0.766931  0\n",
       "197 -0.619929 -0.043078  0\n",
       "198  1.416421 -0.624472  1\n",
       "199  1.971650  0.539546  1\n",
       "\n",
       "[200 rows x 3 columns]"
      ]
     },
     "execution_count": 36,
     "metadata": {},
     "output_type": "execute_result"
    }
   ],
   "source": [
    "print(X.shape)\n",
    "print(y.shape)\n",
    "data=pd.DataFrame(data=X,columns=['x1','x2'])\n",
    "data['y']=y\n",
    "data"
   ]
  },
  {
   "cell_type": "markdown",
   "metadata": {},
   "source": [
    "### Making the graph for the given data"
   ]
  },
  {
   "cell_type": "code",
   "execution_count": 37,
   "metadata": {},
   "outputs": [
    {
     "data": {
      "image/png": "[encoded data removed]",
      "text/plain": [
       "<Figure size 432x288 with 1 Axes>"
      ]
     },
     "metadata": {
      "needs_background": "light"
     },
     "output_type": "display_data"
    }
   ],
   "source": [
    "class_a=data[data.iloc[:,-1] == 0]\n",
    "class_b=data[data.iloc[:,-1] == 1]\n",
    "plt.scatter(np.array(class_a.iloc[:,0]), np.array(class_a.iloc[:,1]), marker=\"o\", label='class_a')\n",
    "plt.scatter(np.array(class_b.iloc[:,0]), np.array(class_b.iloc[:,1]), marker=\".\", label='class_b')\n",
    "plt.legend()\n",
    "plt.show()"
   ]
  },
  {
   "cell_type": "markdown",
   "metadata": {},
   "source": [
    "### Dividing x and y axis"
   ]
  },
  {
   "cell_type": "code",
   "execution_count": 38,
   "metadata": {},
   "outputs": [
    {
     "data": {
      "text/html": [
       "<div>\n",
       "<style scoped>\n",
       "    .dataframe tbody tr th:only-of-type {\n",
       "        vertical-align: middle;\n",
       "    }\n",
       "\n",
       "    .dataframe tbody tr th {\n",
       "        vertical-align: top;\n",
       "    }\n",
       "\n",
       "    .dataframe thead th {\n",
       "        text-align: right;\n",
       "    }\n",
       "</style>\n",
       "<table border=\"1\" class=\"dataframe\">\n",
       "  <thead>\n",
       "    <tr style=\"text-align: right;\">\n",
       "      <th></th>\n",
       "      <th>x1</th>\n",
       "      <th>x2</th>\n",
       "    </tr>\n",
       "  </thead>\n",
       "  <tbody>\n",
       "    <tr>\n",
       "      <th>0</th>\n",
       "      <td>0.793503</td>\n",
       "      <td>1.450951</td>\n",
       "    </tr>\n",
       "    <tr>\n",
       "      <th>1</th>\n",
       "      <td>1.040914</td>\n",
       "      <td>0.276986</td>\n",
       "    </tr>\n",
       "    <tr>\n",
       "      <th>2</th>\n",
       "      <td>0.852074</td>\n",
       "      <td>0.879486</td>\n",
       "    </tr>\n",
       "    <tr>\n",
       "      <th>3</th>\n",
       "      <td>1.375618</td>\n",
       "      <td>-1.049736</td>\n",
       "    </tr>\n",
       "    <tr>\n",
       "      <th>4</th>\n",
       "      <td>1.478016</td>\n",
       "      <td>1.095887</td>\n",
       "    </tr>\n",
       "    <tr>\n",
       "      <th>...</th>\n",
       "      <td>...</td>\n",
       "      <td>...</td>\n",
       "    </tr>\n",
       "    <tr>\n",
       "      <th>195</th>\n",
       "      <td>-3.190290</td>\n",
       "      <td>2.112151</td>\n",
       "    </tr>\n",
       "    <tr>\n",
       "      <th>196</th>\n",
       "      <td>0.434181</td>\n",
       "      <td>0.766931</td>\n",
       "    </tr>\n",
       "    <tr>\n",
       "      <th>197</th>\n",
       "      <td>-0.619929</td>\n",
       "      <td>-0.043078</td>\n",
       "    </tr>\n",
       "    <tr>\n",
       "      <th>198</th>\n",
       "      <td>1.416421</td>\n",
       "      <td>-0.624472</td>\n",
       "    </tr>\n",
       "    <tr>\n",
       "      <th>199</th>\n",
       "      <td>1.971650</td>\n",
       "      <td>0.539546</td>\n",
       "    </tr>\n",
       "  </tbody>\n",
       "</table>\n",
       "<p>200 rows × 2 columns</p>\n",
       "</div>"
      ],
      "text/plain": [
       "           x1        x2\n",
       "0    0.793503  1.450951\n",
       "1    1.040914  0.276986\n",
       "2    0.852074  0.879486\n",
       "3    1.375618 -1.049736\n",
       "4    1.478016  1.095887\n",
       "..        ...       ...\n",
       "195 -3.190290  2.112151\n",
       "196  0.434181  0.766931\n",
       "197 -0.619929 -0.043078\n",
       "198  1.416421 -0.624472\n",
       "199  1.971650  0.539546\n",
       "\n",
       "[200 rows x 2 columns]"
      ]
     },
     "execution_count": 38,
     "metadata": {},
     "output_type": "execute_result"
    }
   ],
   "source": [
    "X=data.drop(\"y\",axis=1)\n",
    "y=data[\"y\"]\n",
    "X"
   ]
  },
  {
   "cell_type": "code",
   "execution_count": 39,
   "metadata": {},
   "outputs": [
    {
     "data": {
      "text/plain": [
       "0      1\n",
       "1      0\n",
       "2      1\n",
       "3      1\n",
       "4      1\n",
       "      ..\n",
       "195    0\n",
       "196    0\n",
       "197    0\n",
       "198    1\n",
       "199    1\n",
       "Name: y, Length: 200, dtype: int32"
      ]
     },
     "execution_count": 39,
     "metadata": {},
     "output_type": "execute_result"
    }
   ],
   "source": [
    "y"
   ]
  },
  {
   "cell_type": "markdown",
   "metadata": {},
   "source": [
    "### Making training and testing data"
   ]
  },
  {
   "cell_type": "code",
   "execution_count": 40,
   "metadata": {},
   "outputs": [],
   "source": [
    "X_train, X_test, y_train, y_test = train_test_split(X,y,test_size=0.30)"
   ]
  },
  {
   "cell_type": "markdown",
   "metadata": {},
   "source": [
    "### Using NaiveBaye's algorithm to train the model"
   ]
  },
  {
   "cell_type": "code",
   "execution_count": 41,
   "metadata": {},
   "outputs": [
    {
     "data": {
      "text/plain": [
       "GaussianNB()"
      ]
     },
     "execution_count": 41,
     "metadata": {},
     "output_type": "execute_result"
    }
   ],
   "source": [
    "naive=GaussianNB()\n",
    "naive.fit(X_train,y_train)"
   ]
  },
  {
   "cell_type": "markdown",
   "metadata": {},
   "source": [
    "### Predict using the given model"
   ]
  },
  {
   "cell_type": "code",
   "execution_count": 42,
   "metadata": {},
   "outputs": [],
   "source": [
    "predict=naive.predict(X_test)"
   ]
  },
  {
   "cell_type": "markdown",
   "metadata": {},
   "source": [
    "### Print the accuracy"
   ]
  },
  {
   "cell_type": "code",
   "execution_count": 43,
   "metadata": {},
   "outputs": [
    {
     "name": "stdout",
     "output_type": "stream",
     "text": [
      "              precision    recall  f1-score   support\n",
      "\n",
      "           0       0.86      0.83      0.85        30\n",
      "           1       0.84      0.87      0.85        30\n",
      "\n",
      "    accuracy                           0.85        60\n",
      "   macro avg       0.85      0.85      0.85        60\n",
      "weighted avg       0.85      0.85      0.85        60\n",
      "\n",
      "Accuracy is:  0.85\n"
     ]
    }
   ],
   "source": [
    "print(classification_report(y_test,predict))\n",
    "print(\"Accuracy is: \",accuracy_score(y_test,predict))"
   ]
  },
  {
   "cell_type": "markdown",
   "metadata": {},
   "source": [
    "#### Accuracy is 85%"
   ]
  },
  {
   "cell_type": "markdown",
   "metadata": {},
   "source": [
    "### Using K-cross validation with NaiveBaye's classification"
   ]
  },
  {
   "cell_type": "code",
   "execution_count": 44,
   "metadata": {},
   "outputs": [
    {
     "name": "stdout",
     "output_type": "stream",
     "text": [
      "Cross validation score is:  [0.85 0.85 0.9  0.85 0.85 0.9  0.85 0.95 0.9  0.85]\n",
      "Average cross validation score:  0.875\n"
     ]
    }
   ],
   "source": [
    "cvnaive = GaussianNB()\n",
    "cv_scores=cross_val_score(cvnaive,X,y,cv=10)\n",
    "print('Cross validation score is: ',cv_scores)\n",
    "print('Average cross validation score: ',np.mean(cv_scores))"
   ]
  },
  {
   "cell_type": "markdown",
   "metadata": {},
   "source": [
    "#### Accuracy is 87.5% which is better than Normal approach of NaiveBaye's classification"
   ]
  },
  {
   "cell_type": "markdown",
   "metadata": {},
   "source": [
    "## Ensemble stacking"
   ]
  },
  {
   "cell_type": "markdown",
   "metadata": {},
   "source": [
    "### - Using K-cross validation for KNN algorithm with k values starting from 3 to 10 "
   ]
  },
  {
   "cell_type": "code",
   "execution_count": 45,
   "metadata": {},
   "outputs": [
    {
     "name": "stdout",
     "output_type": "stream",
     "text": [
      "3 th cross validation\n",
      "Cross validation score is:  [0.92537313 0.94029851 0.92424242]\n",
      "Average cross validation score:  0.9299713553444896\n",
      "4 th cross validation\n",
      "Cross validation score is:  [0.94 0.9  0.96 0.9 ]\n",
      "Average cross validation score:  0.9249999999999999\n",
      "5 th cross validation\n",
      "Cross validation score is:  [0.95  0.875 0.975 0.95  0.9  ]\n",
      "Average cross validation score:  0.93\n",
      "6 th cross validation\n",
      "Cross validation score is:  [0.94117647 0.85294118 0.96969697 0.93939394 0.93939394 0.96969697]\n",
      "Average cross validation score:  0.9353832442067737\n",
      "7 th cross validation\n",
      "Cross validation score is:  [0.93103448 0.96551724 0.93103448 0.96551724 0.92857143 0.92857143\n",
      " 0.96428571]\n",
      "Average cross validation score:  0.944933145672062\n",
      "8 th cross validation\n",
      "Cross validation score is:  [0.92 0.96 0.8  0.96 0.92 1.   0.92 0.96]\n",
      "Average cross validation score:  0.9299999999999999\n",
      "9 th cross validation\n",
      "Cross validation score is:  [0.91304348 0.95652174 0.77272727 1.         0.95454545 0.90909091\n",
      " 0.95454545 0.95454545 0.95454545]\n",
      "Average cross validation score:  0.9299516908212561\n",
      "10 th cross validation\n",
      "Cross validation score is:  [0.9  1.   0.8  0.95 0.95 1.   0.9  0.95 0.95 0.95]\n",
      "Average cross validation score:  0.9349999999999998\n"
     ]
    },
    {
     "data": {
      "text/plain": [
       "[<matplotlib.lines.Line2D at 0x22f18896f40>]"
      ]
     },
     "execution_count": 45,
     "metadata": {},
     "output_type": "execute_result"
    },
    {
     "data": {
      "image/png": "[encoded data removed]",
      "text/plain": [
       "<Figure size 432x288 with 1 Axes>"
      ]
     },
     "metadata": {
      "needs_background": "light"
     },
     "output_type": "display_data"
    }
   ],
   "source": [
    "fold_list=[3,4,5,6,7,8,9,10]\n",
    "accuracy_list=[]\n",
    "for i in fold_list:\n",
    "    print(i,\"th cross validation\")\n",
    "    knncv=KNeighborsClassifier(n_neighbors=3)\n",
    "    cv_scores=cross_val_score(knncv,X,y,cv=i)\n",
    "    print('Cross validation score is: ',cv_scores)\n",
    "    print('Average cross validation score: ',np.mean(cv_scores))\n",
    "    accuracy_list.append(np.mean(cv_scores))\n",
    "plt.plot(fold_list,accuracy_list)"
   ]
  },
  {
   "cell_type": "markdown",
   "metadata": {},
   "source": [
    "#### The accuracy revolves around 92-94.5% with maximum accuracy as 94.5% where k=7 which is way better than Naive Baye's algorithm"
   ]
  },
  {
   "cell_type": "markdown",
   "metadata": {},
   "source": [
    "### - Using K-cross validation for NaiveBaye's algorithm with k values starting from 3 to 10 "
   ]
  },
  {
   "cell_type": "code",
   "execution_count": 46,
   "metadata": {},
   "outputs": [
    {
     "name": "stdout",
     "output_type": "stream",
     "text": [
      "3 th cross validation\n",
      "Cross validation score is:  [0.88059701 0.85074627 0.92424242]\n",
      "Average cross validation score:  0.8851952359415046\n",
      "4 th cross validation\n",
      "Cross validation score is:  [0.9  0.84 0.88 0.92]\n",
      "Average cross validation score:  0.885\n",
      "5 th cross validation\n",
      "Cross validation score is:  [0.875 0.9   0.875 0.9   0.875]\n",
      "Average cross validation score:  0.885\n",
      "6 th cross validation\n",
      "Cross validation score is:  [0.82352941 0.91176471 0.87878788 0.87878788 0.87878788 0.90909091]\n",
      "Average cross validation score:  0.8801247771836008\n",
      "7 th cross validation\n",
      "Cross validation score is:  [0.86206897 0.89655172 0.82758621 0.89655172 0.82142857 0.92857143\n",
      " 0.92857143]\n",
      "Average cross validation score:  0.8801900070372978\n",
      "8 th cross validation\n",
      "Cross validation score is:  [0.84 0.92 0.84 0.84 0.88 0.88 0.92 0.92]\n",
      "Average cross validation score:  0.88\n",
      "9 th cross validation\n",
      "Cross validation score is:  [0.82608696 0.91304348 0.86363636 0.86363636 0.90909091 0.81818182\n",
      " 0.95454545 0.86363636 0.86363636]\n",
      "Average cross validation score:  0.8750548967940273\n",
      "10 th cross validation\n",
      "Cross validation score is:  [0.85 0.85 0.9  0.85 0.85 0.9  0.85 0.95 0.9  0.85]\n",
      "Average cross validation score:  0.875\n"
     ]
    },
    {
     "data": {
      "text/plain": [
       "[<matplotlib.lines.Line2D at 0x22f188fe5b0>]"
      ]
     },
     "execution_count": 46,
     "metadata": {},
     "output_type": "execute_result"
    },
    {
     "data": {
      "image/png": "[encoded data removed]",
      "text/plain": [
       "<Figure size 432x288 with 1 Axes>"
      ]
     },
     "metadata": {
      "needs_background": "light"
     },
     "output_type": "display_data"
    }
   ],
   "source": [
    "fold_list=[3,4,5,6,7,8,9,10]\n",
    "accuracy_list=[]\n",
    "for i in fold_list:\n",
    "    print(i,\"th cross validation\")\n",
    "    naivecv=GaussianNB()\n",
    "    cv_scores=cross_val_score(naivecv,X,y,cv=i)\n",
    "    print('Cross validation score is: ',cv_scores)\n",
    "    print('Average cross validation score: ',np.mean(cv_scores))\n",
    "    accuracy_list.append(np.mean(cv_scores))\n",
    "plt.plot(fold_list,accuracy_list)"
   ]
  },
  {
   "cell_type": "markdown",
   "metadata": {},
   "source": [
    "#### The accuracy revolves around 87.6-88.6% with maximum accuracy as 88.6 at k=3 which is better than normal approach of NaiveBaye's algorithm"
   ]
  },
  {
   "cell_type": "markdown",
   "metadata": {},
   "source": [
    "### - Stacking with KNN, GNB and LR"
   ]
  },
  {
   "cell_type": "code",
   "execution_count": 47,
   "metadata": {},
   "outputs": [],
   "source": [
    "estimators = [('knn',KNeighborsClassifier(n_neighbors=3)), ('gnb',GaussianNB())]"
   ]
  },
  {
   "cell_type": "code",
   "execution_count": 48,
   "metadata": {},
   "outputs": [],
   "source": [
    "knn=KNeighborsClassifier(n_neighbors=3)\n",
    "gnb = GaussianNB()"
   ]
  },
  {
   "cell_type": "code",
   "execution_count": 49,
   "metadata": {},
   "outputs": [],
   "source": [
    "clf = StackingClassifier(estimators=estimators,final_estimator=LogisticRegression())"
   ]
  },
  {
   "cell_type": "code",
   "execution_count": 50,
   "metadata": {},
   "outputs": [
    {
     "name": "stdout",
     "output_type": "stream",
     "text": [
      "3 th cross validation\n",
      "Cross validation score is:  [0.92537313 0.95522388 0.90909091]\n",
      "Average cross validation score:  0.9298959746720942\n",
      "4 th cross validation\n",
      "Cross validation score is:  [0.94 0.9  0.96 0.9 ]\n",
      "Average cross validation score:  0.9249999999999999\n",
      "5 th cross validation\n",
      "Cross validation score is:  [0.95  0.9   0.975 0.95  0.9  ]\n",
      "Average cross validation score:  0.9350000000000002\n",
      "6 th cross validation\n",
      "Cross validation score is:  [0.94117647 0.88235294 0.96969697 0.93939394 0.87878788 0.93939394]\n",
      "Average cross validation score:  0.9251336898395722\n",
      "7 th cross validation\n",
      "Cross validation score is:  [0.93103448 0.96551724 0.93103448 0.96551724 0.92857143 0.89285714\n",
      " 0.92857143]\n",
      "Average cross validation score:  0.934729064039409\n",
      "8 th cross validation\n",
      "Cross validation score is:  [0.92 0.96 0.84 0.96 0.92 1.   0.88 0.92]\n",
      "Average cross validation score:  0.9249999999999999\n",
      "9 th cross validation\n",
      "Cross validation score is:  [0.91304348 0.95652174 0.81818182 1.         0.95454545 0.90909091\n",
      " 0.95454545 0.90909091 0.90909091]\n",
      "Average cross validation score:  0.9249011857707509\n",
      "10 th cross validation\n",
      "Cross validation score is:  [0.9  1.   0.8  0.95 0.95 1.   0.9  0.95 0.9  0.9 ]\n",
      "Average cross validation score:  0.925\n"
     ]
    },
    {
     "data": {
      "text/plain": [
       "[<matplotlib.lines.Line2D at 0x22f18965e50>]"
      ]
     },
     "execution_count": 50,
     "metadata": {},
     "output_type": "execute_result"
    },
    {
     "data": {
      "image/png": "[encoded data removed]",
      "text/plain": [
       "<Figure size 432x288 with 1 Axes>"
      ]
     },
     "metadata": {
      "needs_background": "light"
     },
     "output_type": "display_data"
    }
   ],
   "source": [
    "fold_list=[3,4,5,6,7,8,9,10]\n",
    "accuracy_list=[]\n",
    "for i in fold_list:\n",
    "    print(i,\"th cross validation\")\n",
    "    cv_scores=cross_val_score(clf,X,y,cv=i)\n",
    "    print('Cross validation score is: ',cv_scores)\n",
    "    print('Average cross validation score: ',np.mean(cv_scores))\n",
    "    accuracy_list.append(np.mean(cv_scores))\n",
    "plt.plot(fold_list,accuracy_list)"
   ]
  },
  {
   "cell_type": "markdown",
   "metadata": {},
   "source": [
    "#### The accuracy revolves around 92.6% to 93.5% when stacking with all the three algorithm"
   ]
  }
 ],
 "metadata": {
  "interpreter": {
   "hash": "ed225720166559e7176d3793db16a2fd8d295f725007103b21ac3099d2a89ee8"
  },
  "kernelspec": {
   "display_name": "Python 3",
   "language": "python",
   "name": "python3"
  },
  "language_info": {
   "codemirror_mode": {
    "name": "ipython",
    "version": 3
   },
   "file_extension": ".py",
   "mimetype": "text/x-python",
   "name": "python",
   "nbconvert_exporter": "python",
   "pygments_lexer": "ipython3",
   "version": "3.8.8"
  }
 },
 "nbformat": 4,
 "nbformat_minor": 2
}
