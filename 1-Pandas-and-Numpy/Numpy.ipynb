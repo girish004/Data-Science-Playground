{
 "cells": [
  {
   "cell_type": "markdown",
   "id": "1e819b75",
   "metadata": {},
   "source": [
    "### Import libraries"
   ]
  },
  {
   "cell_type": "code",
   "execution_count": 1,
   "id": "b37c3852",
   "metadata": {},
   "outputs": [],
   "source": [
    "import numpy as np"
   ]
  },
  {
   "cell_type": "markdown",
   "id": "f25ca5cf",
   "metadata": {},
   "source": [
    "### Normal array"
   ]
  },
  {
   "cell_type": "code",
   "execution_count": 2,
   "id": "3f72d331",
   "metadata": {},
   "outputs": [
    {
     "name": "stdout",
     "output_type": "stream",
     "text": [
      "1D array:\n",
      "[1 2 3 4 5 6]\n",
      "2D array:\n",
      "[[1 2 3]\n",
      " [4 5 6]\n",
      " [7 8 9]]\n"
     ]
    }
   ],
   "source": [
    "arr1 = np.array([1,2,3,4,5,6])\n",
    "print(\"1D array:\")\n",
    "print(arr1)\n",
    "arr2 = np.array([[1,2,3],[4,5,6],[7,8,9]])\n",
    "print(\"2D array:\")\n",
    "print(arr2)"
   ]
  },
  {
   "cell_type": "markdown",
   "id": "79094a52",
   "metadata": {},
   "source": [
    "### 1D array "
   ]
  },
  {
   "cell_type": "code",
   "execution_count": 3,
   "id": "404a4a0f",
   "metadata": {},
   "outputs": [
    {
     "name": "stdout",
     "output_type": "stream",
     "text": [
      "Array with Rank 1: \n",
      " [1 2 3]\n"
     ]
    }
   ],
   "source": [
    "# Creating a rank 1 Array\n",
    "arr = np.array([1, 2, 3])\n",
    "print(\"Array with Rank 1: \\n\",arr)"
   ]
  },
  {
   "cell_type": "markdown",
   "id": "effce533",
   "metadata": {},
   "source": [
    "### 2D array "
   ]
  },
  {
   "cell_type": "code",
   "execution_count": 21,
   "id": "9d3483a8",
   "metadata": {},
   "outputs": [
    {
     "name": "stdout",
     "output_type": "stream",
     "text": [
      "[[1 2 3]\n",
      " [4 5 6]]\n"
     ]
    }
   ],
   "source": [
    "# Creating a rank 2 array\n",
    "arr=np.array([[1,2,3],[4,5,6]])\n",
    "print(arr)"
   ]
  },
  {
   "cell_type": "markdown",
   "id": "68374553",
   "metadata": {},
   "source": [
    "### Array of tuples "
   ]
  },
  {
   "cell_type": "code",
   "execution_count": 38,
   "id": "42b6d374",
   "metadata": {},
   "outputs": [
    {
     "name": "stdout",
     "output_type": "stream",
     "text": [
      "[1 2 3]\n"
     ]
    }
   ],
   "source": [
    "# Creating an array with tuples\n",
    "arr=np.array((1,2,3))\n",
    "print(arr)"
   ]
  },
  {
   "cell_type": "markdown",
   "id": "a49628f4",
   "metadata": {},
   "source": [
    "### Array of dictionary"
   ]
  },
  {
   "cell_type": "code",
   "execution_count": 23,
   "id": "be8c1b0a",
   "metadata": {},
   "outputs": [
    {
     "name": "stdout",
     "output_type": "stream",
     "text": [
      "[{'Name': 'S Sabhari', 'Regno': '19BCE1759'}\n",
      " {'Name': 'S Sabhari Girish', 'Regno': '19BCE1759'}]\n"
     ]
    }
   ],
   "source": [
    "# Creating an array with dictionary\n",
    "arr=np.array([{\"Name\":\"S Sabhari\",\"Regno\":\"19BCE1759\"},{\"Name\":\"S Sabhari Girish\",\"Regno\":\"19BCE1759\"}])\n",
    "print(arr)"
   ]
  },
  {
   "cell_type": "markdown",
   "id": "1bcf3ca4",
   "metadata": {},
   "source": [
    "### Numpy array info"
   ]
  },
  {
   "cell_type": "code",
   "execution_count": 24,
   "id": "81875bc0",
   "metadata": {},
   "outputs": [
    {
     "name": "stdout",
     "output_type": "stream",
     "text": [
      "About arr2:\n",
      "Type\t\t: <class 'numpy.ndarray'>\n",
      "Datatype\t: int32\n",
      "Shape\t\t: (3, 3)\n",
      "Size\t\t: 9\n",
      "itemsize\t: 4\n",
      "No. of dim\t: 2\n",
      "No. of bytes\t: 36\n"
     ]
    }
   ],
   "source": [
    "print(\"About arr2:\")\n",
    "print(\"Type\\t\\t:\" ,type(arr2))\n",
    "print(\"Datatype\\t:\",arr2.dtype)\n",
    "print(\"Shape\\t\\t:\", arr2.shape)\n",
    "print(\"Size\\t\\t:\",arr2.size)\n",
    "print(\"itemsize\\t:\",arr2.itemsize)\n",
    "print(\"No. of dim\\t:\",arr2.ndim)\n",
    "print(\"No. of bytes\\t:\", arr2.nbytes)"
   ]
  },
  {
   "cell_type": "markdown",
   "id": "e838fb58",
   "metadata": {},
   "source": [
    "### Functions"
   ]
  },
  {
   "cell_type": "code",
   "execution_count": 25,
   "id": "639e4635",
   "metadata": {},
   "outputs": [
    {
     "name": "stdout",
     "output_type": "stream",
     "text": [
      "Zero Array \t:\n",
      " [[0 0]\n",
      " [0 0]\n",
      " [0 0]\n",
      " [0 0]\n",
      " [0 0]]\n",
      "Arrays with unit values\t:\n",
      " [[1. 1. 1. 1.]\n",
      " [1. 1. 1. 1.]\n",
      " [1. 1. 1. 1.]]\n",
      "Identity matrix\t:\n",
      " [[1. 0. 0.]\n",
      " [0. 1. 0.]\n",
      " [0. 0. 1.]\n",
      " [0. 0. 0.]]\n",
      "Random array\t\n",
      " [[0.99617865 0.12688368]\n",
      " [0.95621482 0.72768609]\n",
      " [0.91455532 0.81461307]]\n",
      "Random integer array\t:\n",
      " [[4 3 5 2 6 3]\n",
      " [5 2 4 3 5 3]]\n"
     ]
    }
   ],
   "source": [
    "arr3 = np.zeros((5,2), dtype=int)\n",
    "arr4 = np.ones((3,4),dtype=float)\n",
    "arr5 = np.eye(4,3)\n",
    "arr6 = np.random.rand(3,2)\n",
    "arr7 = np.random.randint(7,size=(2,6))\n",
    "print(\"Zero Array \\t:\\n\",arr3)\n",
    "print(\"Arrays with unit values\\t:\\n\",arr4)\n",
    "print(\"Identity matrix\\t:\\n\",arr5)\n",
    "print(\"Random array\\t\\n\",arr6)\n",
    "print(\"Random integer array\\t:\\n\" , arr7)"
   ]
  },
  {
   "cell_type": "markdown",
   "id": "bb564eee",
   "metadata": {},
   "source": [
    "### Arrange function"
   ]
  },
  {
   "cell_type": "code",
   "execution_count": 26,
   "id": "f02688b0",
   "metadata": {},
   "outputs": [
    {
     "name": "stdout",
     "output_type": "stream",
     "text": [
      "Array created with arange: \t\n",
      " [1 4 7]\n"
     ]
    }
   ],
   "source": [
    "arr8 = np.arange(1,10,3)\n",
    "print(\"Array created with arange: \\t\\n\",arr8)"
   ]
  },
  {
   "cell_type": "markdown",
   "id": "c71fd962",
   "metadata": {},
   "source": [
    "### Linspace function"
   ]
  },
  {
   "cell_type": "code",
   "execution_count": 27,
   "id": "12de4627",
   "metadata": {},
   "outputs": [
    {
     "name": "stdout",
     "output_type": "stream",
     "text": [
      "Array created using linspace requesting 50 elements within 1 to 10:\t\n",
      " [ 1.          1.18367347  1.36734694  1.55102041  1.73469388  1.91836735\n",
      "  2.10204082  2.28571429  2.46938776  2.65306122  2.83673469  3.02040816\n",
      "  3.20408163  3.3877551   3.57142857  3.75510204  3.93877551  4.12244898\n",
      "  4.30612245  4.48979592  4.67346939  4.85714286  5.04081633  5.2244898\n",
      "  5.40816327  5.59183673  5.7755102   5.95918367  6.14285714  6.32653061\n",
      "  6.51020408  6.69387755  6.87755102  7.06122449  7.24489796  7.42857143\n",
      "  7.6122449   7.79591837  7.97959184  8.16326531  8.34693878  8.53061224\n",
      "  8.71428571  8.89795918  9.08163265  9.26530612  9.44897959  9.63265306\n",
      "  9.81632653 10.        ]\n"
     ]
    }
   ],
   "source": [
    "arr9 = np.linspace(1,10,50)\n",
    "print(\"Array created using linspace requesting 50 elements within 1 to 10:\\t\\n\",arr9)"
   ]
  },
  {
   "cell_type": "markdown",
   "id": "bfeb46d7",
   "metadata": {},
   "source": [
    "### Slicing"
   ]
  },
  {
   "cell_type": "code",
   "execution_count": 28,
   "id": "8ee479e4",
   "metadata": {
    "scrolled": true
   },
   "outputs": [
    {
     "name": "stdout",
     "output_type": "stream",
     "text": [
      "[[ 1  2  3  4  5]\n",
      " [ 6  7  8  9 10]\n",
      " [11 12 13 14 15]\n",
      " [16 17 18 19 20]]\n",
      "Row 2: [ 6  7  8  9 10]\n",
      "Column 2: [ 4  9 14 19]\n",
      "Elements 7,8,12,13 :\n",
      " [[ 7  8]\n",
      " [12 13]]\n",
      "All elements: \n",
      " [[ 1  2  3  4  5]\n",
      " [ 6  7  8  9 10]\n",
      " [11 12 13 14 15]\n",
      " [16 17 18 19 20]]\n",
      "Strides:\n",
      " [[ 2  5]\n",
      " [17 20]]\n"
     ]
    }
   ],
   "source": [
    "arr10 = np.array([[1,2,3,4,5],[6,7,8,9,10],[11,12,13,14,15],[16,17,18,19,20]])\n",
    "print(arr10)\n",
    "print(\"Row 2:\",arr10[1,:])\n",
    "print(\"Column 2:\",arr10[:,3])\n",
    "print(\"Elements 7,8,12,13 :\\n\", arr10[1:3,1:3])\n",
    "print(\"All elements: \\n\",arr10[::])\n",
    "print(\"Strides:\\n\",arr10[0::3,1::3])"
   ]
  },
  {
   "cell_type": "markdown",
   "id": "d6534d45",
   "metadata": {},
   "source": [
    "### Masking "
   ]
  },
  {
   "cell_type": "code",
   "execution_count": 29,
   "id": "6983c943",
   "metadata": {},
   "outputs": [
    {
     "name": "stdout",
     "output_type": "stream",
     "text": [
      "[2 3 5 7]\n"
     ]
    }
   ],
   "source": [
    "arr11 = np.array([1,2,3,4,5,6,7,8,9])\n",
    "mask = np.array([0,1,1,0,1,0,1,0,0],dtype=bool)\n",
    "print(arr11[mask])"
   ]
  },
  {
   "cell_type": "markdown",
   "id": "82ec5f6b",
   "metadata": {},
   "source": [
    "### Summation and difference"
   ]
  },
  {
   "cell_type": "code",
   "execution_count": 30,
   "id": "5fe7e92d",
   "metadata": {},
   "outputs": [
    {
     "name": "stdout",
     "output_type": "stream",
     "text": [
      "Summation:\t [5 7 9]\n",
      "Difference:\t [-3 -3 -3]\n"
     ]
    }
   ],
   "source": [
    "arr13 = np.array([1,2,3])\n",
    "arr14 = np.array([4,5,6])\n",
    "arr15 = arr13+arr14\n",
    "arr16 = arr13 - arr14\n",
    "print(\"Summation:\\t\",arr15)\n",
    "print(\"Difference:\\t\",arr16)"
   ]
  },
  {
   "cell_type": "code",
   "execution_count": 31,
   "id": "f38e95cf",
   "metadata": {},
   "outputs": [
    {
     "name": "stdout",
     "output_type": "stream",
     "text": [
      "Previous output after adding 5: [2 2 2]\n"
     ]
    }
   ],
   "source": [
    "arr16+=5\n",
    "print(\"Previous output after adding 5:\",arr16)"
   ]
  },
  {
   "cell_type": "markdown",
   "id": "1ee99333",
   "metadata": {},
   "source": [
    "### Trignometric & Logarithmic operations"
   ]
  },
  {
   "cell_type": "code",
   "execution_count": 32,
   "id": "4a9b7d34",
   "metadata": {},
   "outputs": [
    {
     "name": "stdout",
     "output_type": "stream",
     "text": [
      "Sin values:\t [ 0.65028784 -0.98803162  0.85090352  0.89399666]\n",
      "Log value:\t [2.7080502  3.40119738 3.80666249 4.49980967]\n"
     ]
    }
   ],
   "source": [
    "arr17 = np.array([15,30,45,90])\n",
    "result7 = np.sin(arr17)\n",
    "print(\"Sin values:\\t\",result7)\n",
    "result8 = np.log(arr17)\n",
    "print(\"Log value:\\t\",result8)"
   ]
  }
 ],
 "metadata": {
  "kernelspec": {
   "display_name": "Python 3",
   "language": "python",
   "name": "python3"
  },
  "language_info": {
   "codemirror_mode": {
    "name": "ipython",
    "version": 3
   },
   "file_extension": ".py",
   "mimetype": "text/x-python",
   "name": "python",
   "nbconvert_exporter": "python",
   "pygments_lexer": "ipython3",
   "version": "3.9.6"
  }
 },
 "nbformat": 4,
 "nbformat_minor": 5
}
