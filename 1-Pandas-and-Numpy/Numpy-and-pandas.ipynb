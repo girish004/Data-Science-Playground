{
 "cells": [
  {
   "cell_type": "markdown",
   "id": "90f3f3b7",
   "metadata": {},
   "source": [
    "### Importing the libraries"
   ]
  },
  {
   "cell_type": "code",
   "execution_count": 63,
   "id": "dc429909",
   "metadata": {},
   "outputs": [],
   "source": [
    "import pandas as pd\n",
    "import numpy as np"
   ]
  },
  {
   "cell_type": "markdown",
   "id": "25a3f774",
   "metadata": {},
   "source": [
    "### Zipping the dataset"
   ]
  },
  {
   "cell_type": "code",
   "execution_count": 64,
   "id": "79ff54a8",
   "metadata": {},
   "outputs": [
    {
     "data": {
      "text/plain": [
       "[('ID', ['S1', 'S2', 'S3', 'S4']),\n",
       " ('English', [89, 90, 78, 98]),\n",
       " ('Maths', [67, 90, 100, 100]),\n",
       " ('Science', [78, 89, 90, 89])]"
      ]
     },
     "execution_count": 64,
     "metadata": {},
     "output_type": "execute_result"
    }
   ],
   "source": [
    "list1 = ['S1','S2','S3','S4']\n",
    "English = [89,90,78,98]\n",
    "Maths = [67,90,100,100]\n",
    "Science = [78,89,90,89]\n",
    "titles = ['ID', 'English','Maths','Science']\n",
    "values = [list1,English,Maths,Science]\n",
    "result = list(zip(titles,values))\n",
    "result"
   ]
  },
  {
   "cell_type": "markdown",
   "id": "e8881ba2",
   "metadata": {},
   "source": [
    "### Making it as a dataframe and printing them"
   ]
  },
  {
   "cell_type": "code",
   "execution_count": 65,
   "id": "8f23a125",
   "metadata": {},
   "outputs": [
    {
     "name": "stdout",
     "output_type": "stream",
     "text": [
      "   ID  English  Maths  Science\n",
      "0  S1       89     67       78\n",
      "1  S2       90     90       89\n",
      "2  S3       78    100       90\n",
      "3  S4       98    100       89\n"
     ]
    }
   ],
   "source": [
    "result1 = dict(result)\n",
    "df1 = pd.DataFrame(result1)\n",
    "print(df1)"
   ]
  },
  {
   "cell_type": "markdown",
   "id": "d18664d4",
   "metadata": {},
   "source": [
    "### Read the dataset from the csv file and print the head and tail of the dataset"
   ]
  },
  {
   "cell_type": "code",
   "execution_count": 66,
   "id": "20446955",
   "metadata": {},
   "outputs": [
    {
     "data": {
      "text/html": [
       "<div>\n",
       "<style scoped>\n",
       "    .dataframe tbody tr th:only-of-type {\n",
       "        vertical-align: middle;\n",
       "    }\n",
       "\n",
       "    .dataframe tbody tr th {\n",
       "        vertical-align: top;\n",
       "    }\n",
       "\n",
       "    .dataframe thead th {\n",
       "        text-align: right;\n",
       "    }\n",
       "</style>\n",
       "<table border=\"1\" class=\"dataframe\">\n",
       "  <thead>\n",
       "    <tr style=\"text-align: right;\">\n",
       "      <th></th>\n",
       "      <th>Name</th>\n",
       "      <th>Allegiances</th>\n",
       "      <th>Death Year</th>\n",
       "      <th>Book of Death</th>\n",
       "      <th>Death Chapter</th>\n",
       "      <th>Book Intro Chapter</th>\n",
       "      <th>Gender</th>\n",
       "      <th>Nobility</th>\n",
       "      <th>GoT</th>\n",
       "      <th>CoK</th>\n",
       "      <th>SoS</th>\n",
       "      <th>FfC</th>\n",
       "      <th>DwD</th>\n",
       "    </tr>\n",
       "  </thead>\n",
       "  <tbody>\n",
       "    <tr>\n",
       "      <th>0</th>\n",
       "      <td>Addam Marbrand</td>\n",
       "      <td>Lannister</td>\n",
       "      <td>NaN</td>\n",
       "      <td>NaN</td>\n",
       "      <td>NaN</td>\n",
       "      <td>56.0</td>\n",
       "      <td>1</td>\n",
       "      <td>1</td>\n",
       "      <td>1</td>\n",
       "      <td>1</td>\n",
       "      <td>1</td>\n",
       "      <td>1</td>\n",
       "      <td>0</td>\n",
       "    </tr>\n",
       "    <tr>\n",
       "      <th>1</th>\n",
       "      <td>Aegon Frey (Jinglebell)</td>\n",
       "      <td>None</td>\n",
       "      <td>299.0</td>\n",
       "      <td>3.0</td>\n",
       "      <td>51.0</td>\n",
       "      <td>49.0</td>\n",
       "      <td>1</td>\n",
       "      <td>1</td>\n",
       "      <td>0</td>\n",
       "      <td>0</td>\n",
       "      <td>1</td>\n",
       "      <td>0</td>\n",
       "      <td>0</td>\n",
       "    </tr>\n",
       "    <tr>\n",
       "      <th>2</th>\n",
       "      <td>Aegon Targaryen</td>\n",
       "      <td>House Targaryen</td>\n",
       "      <td>NaN</td>\n",
       "      <td>NaN</td>\n",
       "      <td>NaN</td>\n",
       "      <td>5.0</td>\n",
       "      <td>1</td>\n",
       "      <td>1</td>\n",
       "      <td>0</td>\n",
       "      <td>0</td>\n",
       "      <td>0</td>\n",
       "      <td>0</td>\n",
       "      <td>1</td>\n",
       "    </tr>\n",
       "    <tr>\n",
       "      <th>3</th>\n",
       "      <td>Adrack Humble</td>\n",
       "      <td>House Greyjoy</td>\n",
       "      <td>300.0</td>\n",
       "      <td>5.0</td>\n",
       "      <td>20.0</td>\n",
       "      <td>20.0</td>\n",
       "      <td>1</td>\n",
       "      <td>1</td>\n",
       "      <td>0</td>\n",
       "      <td>0</td>\n",
       "      <td>0</td>\n",
       "      <td>0</td>\n",
       "      <td>1</td>\n",
       "    </tr>\n",
       "    <tr>\n",
       "      <th>4</th>\n",
       "      <td>Aemon Costayne</td>\n",
       "      <td>Lannister</td>\n",
       "      <td>NaN</td>\n",
       "      <td>NaN</td>\n",
       "      <td>NaN</td>\n",
       "      <td>NaN</td>\n",
       "      <td>1</td>\n",
       "      <td>1</td>\n",
       "      <td>0</td>\n",
       "      <td>0</td>\n",
       "      <td>1</td>\n",
       "      <td>0</td>\n",
       "      <td>0</td>\n",
       "    </tr>\n",
       "  </tbody>\n",
       "</table>\n",
       "</div>"
      ],
      "text/plain": [
       "                      Name      Allegiances  Death Year  Book of Death  \\\n",
       "0           Addam Marbrand        Lannister         NaN            NaN   \n",
       "1  Aegon Frey (Jinglebell)             None       299.0            3.0   \n",
       "2          Aegon Targaryen  House Targaryen         NaN            NaN   \n",
       "3            Adrack Humble    House Greyjoy       300.0            5.0   \n",
       "4           Aemon Costayne        Lannister         NaN            NaN   \n",
       "\n",
       "   Death Chapter  Book Intro Chapter  Gender  Nobility  GoT  CoK  SoS  FfC  \\\n",
       "0            NaN                56.0       1         1    1    1    1    1   \n",
       "1           51.0                49.0       1         1    0    0    1    0   \n",
       "2            NaN                 5.0       1         1    0    0    0    0   \n",
       "3           20.0                20.0       1         1    0    0    0    0   \n",
       "4            NaN                 NaN       1         1    0    0    1    0   \n",
       "\n",
       "   DwD  \n",
       "0    0  \n",
       "1    0  \n",
       "2    1  \n",
       "3    1  \n",
       "4    0  "
      ]
     },
     "execution_count": 66,
     "metadata": {},
     "output_type": "execute_result"
    }
   ],
   "source": [
    "df2 = pd.read_csv('character-deaths.csv')\n",
    "df2.head()"
   ]
  },
  {
   "cell_type": "code",
   "execution_count": 67,
   "id": "e36d4291",
   "metadata": {},
   "outputs": [
    {
     "data": {
      "text/html": [
       "<div>\n",
       "<style scoped>\n",
       "    .dataframe tbody tr th:only-of-type {\n",
       "        vertical-align: middle;\n",
       "    }\n",
       "\n",
       "    .dataframe tbody tr th {\n",
       "        vertical-align: top;\n",
       "    }\n",
       "\n",
       "    .dataframe thead th {\n",
       "        text-align: right;\n",
       "    }\n",
       "</style>\n",
       "<table border=\"1\" class=\"dataframe\">\n",
       "  <thead>\n",
       "    <tr style=\"text-align: right;\">\n",
       "      <th></th>\n",
       "      <th>Name</th>\n",
       "      <th>Allegiances</th>\n",
       "      <th>Death Year</th>\n",
       "      <th>Book of Death</th>\n",
       "      <th>Death Chapter</th>\n",
       "      <th>Book Intro Chapter</th>\n",
       "      <th>Gender</th>\n",
       "      <th>Nobility</th>\n",
       "      <th>GoT</th>\n",
       "      <th>CoK</th>\n",
       "      <th>SoS</th>\n",
       "      <th>FfC</th>\n",
       "      <th>DwD</th>\n",
       "    </tr>\n",
       "  </thead>\n",
       "  <tbody>\n",
       "    <tr>\n",
       "      <th>912</th>\n",
       "      <td>Zollo</td>\n",
       "      <td>None</td>\n",
       "      <td>NaN</td>\n",
       "      <td>NaN</td>\n",
       "      <td>NaN</td>\n",
       "      <td>21.0</td>\n",
       "      <td>1</td>\n",
       "      <td>0</td>\n",
       "      <td>0</td>\n",
       "      <td>0</td>\n",
       "      <td>1</td>\n",
       "      <td>0</td>\n",
       "      <td>0</td>\n",
       "    </tr>\n",
       "    <tr>\n",
       "      <th>913</th>\n",
       "      <td>Yurkhaz zo Yunzak</td>\n",
       "      <td>None</td>\n",
       "      <td>300.0</td>\n",
       "      <td>5.0</td>\n",
       "      <td>59.0</td>\n",
       "      <td>47.0</td>\n",
       "      <td>1</td>\n",
       "      <td>0</td>\n",
       "      <td>0</td>\n",
       "      <td>0</td>\n",
       "      <td>0</td>\n",
       "      <td>0</td>\n",
       "      <td>1</td>\n",
       "    </tr>\n",
       "    <tr>\n",
       "      <th>914</th>\n",
       "      <td>Yezzan Zo Qaggaz</td>\n",
       "      <td>None</td>\n",
       "      <td>300.0</td>\n",
       "      <td>5.0</td>\n",
       "      <td>57.0</td>\n",
       "      <td>25.0</td>\n",
       "      <td>1</td>\n",
       "      <td>1</td>\n",
       "      <td>0</td>\n",
       "      <td>0</td>\n",
       "      <td>0</td>\n",
       "      <td>0</td>\n",
       "      <td>1</td>\n",
       "    </tr>\n",
       "    <tr>\n",
       "      <th>915</th>\n",
       "      <td>Torwynd the Tame</td>\n",
       "      <td>Wildling</td>\n",
       "      <td>300.0</td>\n",
       "      <td>5.0</td>\n",
       "      <td>73.0</td>\n",
       "      <td>73.0</td>\n",
       "      <td>1</td>\n",
       "      <td>0</td>\n",
       "      <td>0</td>\n",
       "      <td>0</td>\n",
       "      <td>1</td>\n",
       "      <td>0</td>\n",
       "      <td>0</td>\n",
       "    </tr>\n",
       "    <tr>\n",
       "      <th>916</th>\n",
       "      <td>Talbert Serry</td>\n",
       "      <td>Tyrell</td>\n",
       "      <td>300.0</td>\n",
       "      <td>4.0</td>\n",
       "      <td>29.0</td>\n",
       "      <td>29.0</td>\n",
       "      <td>1</td>\n",
       "      <td>1</td>\n",
       "      <td>0</td>\n",
       "      <td>0</td>\n",
       "      <td>0</td>\n",
       "      <td>1</td>\n",
       "      <td>0</td>\n",
       "    </tr>\n",
       "  </tbody>\n",
       "</table>\n",
       "</div>"
      ],
      "text/plain": [
       "                  Name Allegiances  Death Year  Book of Death  Death Chapter  \\\n",
       "912              Zollo        None         NaN            NaN            NaN   \n",
       "913  Yurkhaz zo Yunzak        None       300.0            5.0           59.0   \n",
       "914   Yezzan Zo Qaggaz        None       300.0            5.0           57.0   \n",
       "915   Torwynd the Tame    Wildling       300.0            5.0           73.0   \n",
       "916      Talbert Serry      Tyrell       300.0            4.0           29.0   \n",
       "\n",
       "     Book Intro Chapter  Gender  Nobility  GoT  CoK  SoS  FfC  DwD  \n",
       "912                21.0       1         0    0    0    1    0    0  \n",
       "913                47.0       1         0    0    0    0    0    1  \n",
       "914                25.0       1         1    0    0    0    0    1  \n",
       "915                73.0       1         0    0    0    1    0    0  \n",
       "916                29.0       1         1    0    0    0    1    0  "
      ]
     },
     "execution_count": 67,
     "metadata": {},
     "output_type": "execute_result"
    }
   ],
   "source": [
    "df2.tail()"
   ]
  },
  {
   "cell_type": "markdown",
   "id": "3253c511",
   "metadata": {},
   "source": [
    "### Convert the result to a csv file"
   ]
  },
  {
   "cell_type": "code",
   "execution_count": 68,
   "id": "3d84b1b2",
   "metadata": {},
   "outputs": [],
   "source": [
    "df2.to_csv('result.csv')"
   ]
  },
  {
   "cell_type": "markdown",
   "id": "3831b351",
   "metadata": {},
   "source": [
    "## Try it yourself:"
   ]
  },
  {
   "cell_type": "markdown",
   "id": "eac823f4",
   "metadata": {},
   "source": [
    "### Remove the header in the csv file and save it locally and print the dataset"
   ]
  },
  {
   "cell_type": "code",
   "execution_count": 69,
   "id": "3682a3b0",
   "metadata": {},
   "outputs": [
    {
     "data": {
      "text/html": [
       "<div>\n",
       "<style scoped>\n",
       "    .dataframe tbody tr th:only-of-type {\n",
       "        vertical-align: middle;\n",
       "    }\n",
       "\n",
       "    .dataframe tbody tr th {\n",
       "        vertical-align: top;\n",
       "    }\n",
       "\n",
       "    .dataframe thead th {\n",
       "        text-align: right;\n",
       "    }\n",
       "</style>\n",
       "<table border=\"1\" class=\"dataframe\">\n",
       "  <thead>\n",
       "    <tr style=\"text-align: right;\">\n",
       "      <th></th>\n",
       "      <th>0</th>\n",
       "      <th>1</th>\n",
       "      <th>2</th>\n",
       "      <th>3</th>\n",
       "      <th>4</th>\n",
       "      <th>5</th>\n",
       "      <th>6</th>\n",
       "      <th>7</th>\n",
       "      <th>8</th>\n",
       "      <th>9</th>\n",
       "      <th>10</th>\n",
       "      <th>11</th>\n",
       "      <th>12</th>\n",
       "    </tr>\n",
       "  </thead>\n",
       "  <tbody>\n",
       "    <tr>\n",
       "      <th>0</th>\n",
       "      <td>Addam Marbrand</td>\n",
       "      <td>Lannister</td>\n",
       "      <td>NaN</td>\n",
       "      <td>NaN</td>\n",
       "      <td>NaN</td>\n",
       "      <td>56.0</td>\n",
       "      <td>1</td>\n",
       "      <td>1</td>\n",
       "      <td>1</td>\n",
       "      <td>1</td>\n",
       "      <td>1</td>\n",
       "      <td>1</td>\n",
       "      <td>0</td>\n",
       "    </tr>\n",
       "    <tr>\n",
       "      <th>1</th>\n",
       "      <td>Aegon Frey (Jinglebell)</td>\n",
       "      <td>None</td>\n",
       "      <td>299.0</td>\n",
       "      <td>3.0</td>\n",
       "      <td>51.0</td>\n",
       "      <td>49.0</td>\n",
       "      <td>1</td>\n",
       "      <td>1</td>\n",
       "      <td>0</td>\n",
       "      <td>0</td>\n",
       "      <td>1</td>\n",
       "      <td>0</td>\n",
       "      <td>0</td>\n",
       "    </tr>\n",
       "    <tr>\n",
       "      <th>2</th>\n",
       "      <td>Aegon Targaryen</td>\n",
       "      <td>House Targaryen</td>\n",
       "      <td>NaN</td>\n",
       "      <td>NaN</td>\n",
       "      <td>NaN</td>\n",
       "      <td>5.0</td>\n",
       "      <td>1</td>\n",
       "      <td>1</td>\n",
       "      <td>0</td>\n",
       "      <td>0</td>\n",
       "      <td>0</td>\n",
       "      <td>0</td>\n",
       "      <td>1</td>\n",
       "    </tr>\n",
       "    <tr>\n",
       "      <th>3</th>\n",
       "      <td>Adrack Humble</td>\n",
       "      <td>House Greyjoy</td>\n",
       "      <td>300.0</td>\n",
       "      <td>5.0</td>\n",
       "      <td>20.0</td>\n",
       "      <td>20.0</td>\n",
       "      <td>1</td>\n",
       "      <td>1</td>\n",
       "      <td>0</td>\n",
       "      <td>0</td>\n",
       "      <td>0</td>\n",
       "      <td>0</td>\n",
       "      <td>1</td>\n",
       "    </tr>\n",
       "    <tr>\n",
       "      <th>4</th>\n",
       "      <td>Aemon Costayne</td>\n",
       "      <td>Lannister</td>\n",
       "      <td>NaN</td>\n",
       "      <td>NaN</td>\n",
       "      <td>NaN</td>\n",
       "      <td>NaN</td>\n",
       "      <td>1</td>\n",
       "      <td>1</td>\n",
       "      <td>0</td>\n",
       "      <td>0</td>\n",
       "      <td>1</td>\n",
       "      <td>0</td>\n",
       "      <td>0</td>\n",
       "    </tr>\n",
       "  </tbody>\n",
       "</table>\n",
       "</div>"
      ],
      "text/plain": [
       "                        0                1      2    3     4     5   6   7   \\\n",
       "0           Addam Marbrand        Lannister    NaN  NaN   NaN  56.0   1   1   \n",
       "1  Aegon Frey (Jinglebell)             None  299.0  3.0  51.0  49.0   1   1   \n",
       "2          Aegon Targaryen  House Targaryen    NaN  NaN   NaN   5.0   1   1   \n",
       "3            Adrack Humble    House Greyjoy  300.0  5.0  20.0  20.0   1   1   \n",
       "4           Aemon Costayne        Lannister    NaN  NaN   NaN   NaN   1   1   \n",
       "\n",
       "   8   9   10  11  12  \n",
       "0   1   1   1   1   0  \n",
       "1   0   0   1   0   0  \n",
       "2   0   0   0   0   1  \n",
       "3   0   0   0   0   1  \n",
       "4   0   0   1   0   0  "
      ]
     },
     "execution_count": 69,
     "metadata": {},
     "output_type": "execute_result"
    }
   ],
   "source": [
    "df3 = pd.read_csv('character-deaths-without-header.csv',header=None)\n",
    "df3.head()"
   ]
  },
  {
   "cell_type": "markdown",
   "id": "dc56baa8",
   "metadata": {},
   "source": [
    "### Print the column index of the dataset"
   ]
  },
  {
   "cell_type": "code",
   "execution_count": 70,
   "id": "b643feea",
   "metadata": {},
   "outputs": [
    {
     "data": {
      "text/plain": [
       "Int64Index([0, 1, 2, 3, 4, 5, 6, 7, 8, 9, 10, 11, 12], dtype='int64')"
      ]
     },
     "execution_count": 70,
     "metadata": {},
     "output_type": "execute_result"
    }
   ],
   "source": [
    "df3.columns"
   ]
  },
  {
   "cell_type": "markdown",
   "id": "b55847ab",
   "metadata": {},
   "source": [
    "### Assign header to the dataset now and print the columns"
   ]
  },
  {
   "cell_type": "code",
   "execution_count": 71,
   "id": "32e20173",
   "metadata": {},
   "outputs": [],
   "source": [
    "df3.columns=[\"Name\", \"Allegiances\", \"Death Year\",\"Book of Death\", \"Death Chapter\",\"Book Intro Chapter\",\"Gender\",\"Nobility\",\"GoT\",\"CoK\",\"SoS\",\"FfC\",\"DwD\"]"
   ]
  },
  {
   "cell_type": "code",
   "execution_count": 72,
   "id": "3293cb91",
   "metadata": {},
   "outputs": [
    {
     "name": "stdout",
     "output_type": "stream",
     "text": [
      "Index(['Name', 'Allegiances', 'Death Year', 'Book of Death', 'Death Chapter',\n",
      "       'Book Intro Chapter', 'Gender', 'Nobility', 'GoT', 'CoK', 'SoS', 'FfC',\n",
      "       'DwD'],\n",
      "      dtype='object')\n"
     ]
    }
   ],
   "source": [
    "print(df3.columns)"
   ]
  },
  {
   "cell_type": "markdown",
   "id": "22721d15",
   "metadata": {},
   "source": [
    "### Print the head of the dataset"
   ]
  },
  {
   "cell_type": "code",
   "execution_count": 73,
   "id": "96bd2994",
   "metadata": {},
   "outputs": [
    {
     "data": {
      "text/html": [
       "<div>\n",
       "<style scoped>\n",
       "    .dataframe tbody tr th:only-of-type {\n",
       "        vertical-align: middle;\n",
       "    }\n",
       "\n",
       "    .dataframe tbody tr th {\n",
       "        vertical-align: top;\n",
       "    }\n",
       "\n",
       "    .dataframe thead th {\n",
       "        text-align: right;\n",
       "    }\n",
       "</style>\n",
       "<table border=\"1\" class=\"dataframe\">\n",
       "  <thead>\n",
       "    <tr style=\"text-align: right;\">\n",
       "      <th></th>\n",
       "      <th>Name</th>\n",
       "      <th>Allegiances</th>\n",
       "      <th>Death Year</th>\n",
       "      <th>Book of Death</th>\n",
       "      <th>Death Chapter</th>\n",
       "      <th>Book Intro Chapter</th>\n",
       "      <th>Gender</th>\n",
       "      <th>Nobility</th>\n",
       "      <th>GoT</th>\n",
       "      <th>CoK</th>\n",
       "      <th>SoS</th>\n",
       "      <th>FfC</th>\n",
       "      <th>DwD</th>\n",
       "    </tr>\n",
       "  </thead>\n",
       "  <tbody>\n",
       "    <tr>\n",
       "      <th>0</th>\n",
       "      <td>Addam Marbrand</td>\n",
       "      <td>Lannister</td>\n",
       "      <td>NaN</td>\n",
       "      <td>NaN</td>\n",
       "      <td>NaN</td>\n",
       "      <td>56.0</td>\n",
       "      <td>1</td>\n",
       "      <td>1</td>\n",
       "      <td>1</td>\n",
       "      <td>1</td>\n",
       "      <td>1</td>\n",
       "      <td>1</td>\n",
       "      <td>0</td>\n",
       "    </tr>\n",
       "    <tr>\n",
       "      <th>1</th>\n",
       "      <td>Aegon Frey (Jinglebell)</td>\n",
       "      <td>None</td>\n",
       "      <td>299.0</td>\n",
       "      <td>3.0</td>\n",
       "      <td>51.0</td>\n",
       "      <td>49.0</td>\n",
       "      <td>1</td>\n",
       "      <td>1</td>\n",
       "      <td>0</td>\n",
       "      <td>0</td>\n",
       "      <td>1</td>\n",
       "      <td>0</td>\n",
       "      <td>0</td>\n",
       "    </tr>\n",
       "    <tr>\n",
       "      <th>2</th>\n",
       "      <td>Aegon Targaryen</td>\n",
       "      <td>House Targaryen</td>\n",
       "      <td>NaN</td>\n",
       "      <td>NaN</td>\n",
       "      <td>NaN</td>\n",
       "      <td>5.0</td>\n",
       "      <td>1</td>\n",
       "      <td>1</td>\n",
       "      <td>0</td>\n",
       "      <td>0</td>\n",
       "      <td>0</td>\n",
       "      <td>0</td>\n",
       "      <td>1</td>\n",
       "    </tr>\n",
       "    <tr>\n",
       "      <th>3</th>\n",
       "      <td>Adrack Humble</td>\n",
       "      <td>House Greyjoy</td>\n",
       "      <td>300.0</td>\n",
       "      <td>5.0</td>\n",
       "      <td>20.0</td>\n",
       "      <td>20.0</td>\n",
       "      <td>1</td>\n",
       "      <td>1</td>\n",
       "      <td>0</td>\n",
       "      <td>0</td>\n",
       "      <td>0</td>\n",
       "      <td>0</td>\n",
       "      <td>1</td>\n",
       "    </tr>\n",
       "    <tr>\n",
       "      <th>4</th>\n",
       "      <td>Aemon Costayne</td>\n",
       "      <td>Lannister</td>\n",
       "      <td>NaN</td>\n",
       "      <td>NaN</td>\n",
       "      <td>NaN</td>\n",
       "      <td>NaN</td>\n",
       "      <td>1</td>\n",
       "      <td>1</td>\n",
       "      <td>0</td>\n",
       "      <td>0</td>\n",
       "      <td>1</td>\n",
       "      <td>0</td>\n",
       "      <td>0</td>\n",
       "    </tr>\n",
       "  </tbody>\n",
       "</table>\n",
       "</div>"
      ],
      "text/plain": [
       "                      Name      Allegiances  Death Year  Book of Death  \\\n",
       "0           Addam Marbrand        Lannister         NaN            NaN   \n",
       "1  Aegon Frey (Jinglebell)             None       299.0            3.0   \n",
       "2          Aegon Targaryen  House Targaryen         NaN            NaN   \n",
       "3            Adrack Humble    House Greyjoy       300.0            5.0   \n",
       "4           Aemon Costayne        Lannister         NaN            NaN   \n",
       "\n",
       "   Death Chapter  Book Intro Chapter  Gender  Nobility  GoT  CoK  SoS  FfC  \\\n",
       "0            NaN                56.0       1         1    1    1    1    1   \n",
       "1           51.0                49.0       1         1    0    0    1    0   \n",
       "2            NaN                 5.0       1         1    0    0    0    0   \n",
       "3           20.0                20.0       1         1    0    0    0    0   \n",
       "4            NaN                 NaN       1         1    0    0    1    0   \n",
       "\n",
       "   DwD  \n",
       "0    0  \n",
       "1    0  \n",
       "2    1  \n",
       "3    1  \n",
       "4    0  "
      ]
     },
     "execution_count": 73,
     "metadata": {},
     "output_type": "execute_result"
    }
   ],
   "source": [
    "df3.head()"
   ]
  },
  {
   "cell_type": "markdown",
   "id": "f7d18a95",
   "metadata": {},
   "source": [
    "### Display the 1st 10 lines of the file"
   ]
  },
  {
   "cell_type": "code",
   "execution_count": 74,
   "id": "62904a2f",
   "metadata": {},
   "outputs": [
    {
     "data": {
      "text/html": [
       "<div>\n",
       "<style scoped>\n",
       "    .dataframe tbody tr th:only-of-type {\n",
       "        vertical-align: middle;\n",
       "    }\n",
       "\n",
       "    .dataframe tbody tr th {\n",
       "        vertical-align: top;\n",
       "    }\n",
       "\n",
       "    .dataframe thead th {\n",
       "        text-align: right;\n",
       "    }\n",
       "</style>\n",
       "<table border=\"1\" class=\"dataframe\">\n",
       "  <thead>\n",
       "    <tr style=\"text-align: right;\">\n",
       "      <th></th>\n",
       "      <th>Name</th>\n",
       "      <th>Allegiances</th>\n",
       "      <th>Death Year</th>\n",
       "      <th>Book of Death</th>\n",
       "      <th>Death Chapter</th>\n",
       "      <th>Book Intro Chapter</th>\n",
       "      <th>Gender</th>\n",
       "      <th>Nobility</th>\n",
       "      <th>GoT</th>\n",
       "      <th>CoK</th>\n",
       "      <th>SoS</th>\n",
       "      <th>FfC</th>\n",
       "      <th>DwD</th>\n",
       "    </tr>\n",
       "  </thead>\n",
       "  <tbody>\n",
       "    <tr>\n",
       "      <th>0</th>\n",
       "      <td>Addam Marbrand</td>\n",
       "      <td>Lannister</td>\n",
       "      <td>NaN</td>\n",
       "      <td>NaN</td>\n",
       "      <td>NaN</td>\n",
       "      <td>56.0</td>\n",
       "      <td>1</td>\n",
       "      <td>1</td>\n",
       "      <td>1</td>\n",
       "      <td>1</td>\n",
       "      <td>1</td>\n",
       "      <td>1</td>\n",
       "      <td>0</td>\n",
       "    </tr>\n",
       "    <tr>\n",
       "      <th>1</th>\n",
       "      <td>Aegon Frey (Jinglebell)</td>\n",
       "      <td>None</td>\n",
       "      <td>299.0</td>\n",
       "      <td>3.0</td>\n",
       "      <td>51.0</td>\n",
       "      <td>49.0</td>\n",
       "      <td>1</td>\n",
       "      <td>1</td>\n",
       "      <td>0</td>\n",
       "      <td>0</td>\n",
       "      <td>1</td>\n",
       "      <td>0</td>\n",
       "      <td>0</td>\n",
       "    </tr>\n",
       "    <tr>\n",
       "      <th>2</th>\n",
       "      <td>Aegon Targaryen</td>\n",
       "      <td>House Targaryen</td>\n",
       "      <td>NaN</td>\n",
       "      <td>NaN</td>\n",
       "      <td>NaN</td>\n",
       "      <td>5.0</td>\n",
       "      <td>1</td>\n",
       "      <td>1</td>\n",
       "      <td>0</td>\n",
       "      <td>0</td>\n",
       "      <td>0</td>\n",
       "      <td>0</td>\n",
       "      <td>1</td>\n",
       "    </tr>\n",
       "    <tr>\n",
       "      <th>3</th>\n",
       "      <td>Adrack Humble</td>\n",
       "      <td>House Greyjoy</td>\n",
       "      <td>300.0</td>\n",
       "      <td>5.0</td>\n",
       "      <td>20.0</td>\n",
       "      <td>20.0</td>\n",
       "      <td>1</td>\n",
       "      <td>1</td>\n",
       "      <td>0</td>\n",
       "      <td>0</td>\n",
       "      <td>0</td>\n",
       "      <td>0</td>\n",
       "      <td>1</td>\n",
       "    </tr>\n",
       "    <tr>\n",
       "      <th>4</th>\n",
       "      <td>Aemon Costayne</td>\n",
       "      <td>Lannister</td>\n",
       "      <td>NaN</td>\n",
       "      <td>NaN</td>\n",
       "      <td>NaN</td>\n",
       "      <td>NaN</td>\n",
       "      <td>1</td>\n",
       "      <td>1</td>\n",
       "      <td>0</td>\n",
       "      <td>0</td>\n",
       "      <td>1</td>\n",
       "      <td>0</td>\n",
       "      <td>0</td>\n",
       "    </tr>\n",
       "    <tr>\n",
       "      <th>5</th>\n",
       "      <td>Aemon Estermont</td>\n",
       "      <td>Baratheon</td>\n",
       "      <td>NaN</td>\n",
       "      <td>NaN</td>\n",
       "      <td>NaN</td>\n",
       "      <td>NaN</td>\n",
       "      <td>1</td>\n",
       "      <td>1</td>\n",
       "      <td>0</td>\n",
       "      <td>1</td>\n",
       "      <td>1</td>\n",
       "      <td>0</td>\n",
       "      <td>0</td>\n",
       "    </tr>\n",
       "    <tr>\n",
       "      <th>6</th>\n",
       "      <td>Aemon Targaryen (son of Maekar I)</td>\n",
       "      <td>Night's Watch</td>\n",
       "      <td>300.0</td>\n",
       "      <td>4.0</td>\n",
       "      <td>35.0</td>\n",
       "      <td>21.0</td>\n",
       "      <td>1</td>\n",
       "      <td>1</td>\n",
       "      <td>1</td>\n",
       "      <td>0</td>\n",
       "      <td>1</td>\n",
       "      <td>1</td>\n",
       "      <td>0</td>\n",
       "    </tr>\n",
       "    <tr>\n",
       "      <th>7</th>\n",
       "      <td>Aenys Frey</td>\n",
       "      <td>None</td>\n",
       "      <td>300.0</td>\n",
       "      <td>5.0</td>\n",
       "      <td>NaN</td>\n",
       "      <td>59.0</td>\n",
       "      <td>0</td>\n",
       "      <td>1</td>\n",
       "      <td>1</td>\n",
       "      <td>1</td>\n",
       "      <td>1</td>\n",
       "      <td>0</td>\n",
       "      <td>1</td>\n",
       "    </tr>\n",
       "    <tr>\n",
       "      <th>8</th>\n",
       "      <td>Aeron Greyjoy</td>\n",
       "      <td>House Greyjoy</td>\n",
       "      <td>NaN</td>\n",
       "      <td>NaN</td>\n",
       "      <td>NaN</td>\n",
       "      <td>11.0</td>\n",
       "      <td>1</td>\n",
       "      <td>1</td>\n",
       "      <td>0</td>\n",
       "      <td>1</td>\n",
       "      <td>0</td>\n",
       "      <td>1</td>\n",
       "      <td>0</td>\n",
       "    </tr>\n",
       "    <tr>\n",
       "      <th>9</th>\n",
       "      <td>Aethan</td>\n",
       "      <td>Night's Watch</td>\n",
       "      <td>NaN</td>\n",
       "      <td>NaN</td>\n",
       "      <td>NaN</td>\n",
       "      <td>0.0</td>\n",
       "      <td>1</td>\n",
       "      <td>0</td>\n",
       "      <td>0</td>\n",
       "      <td>0</td>\n",
       "      <td>1</td>\n",
       "      <td>0</td>\n",
       "      <td>0</td>\n",
       "    </tr>\n",
       "  </tbody>\n",
       "</table>\n",
       "</div>"
      ],
      "text/plain": [
       "                                Name      Allegiances  Death Year  \\\n",
       "0                     Addam Marbrand        Lannister         NaN   \n",
       "1            Aegon Frey (Jinglebell)             None       299.0   \n",
       "2                    Aegon Targaryen  House Targaryen         NaN   \n",
       "3                      Adrack Humble    House Greyjoy       300.0   \n",
       "4                     Aemon Costayne        Lannister         NaN   \n",
       "5                    Aemon Estermont        Baratheon         NaN   \n",
       "6  Aemon Targaryen (son of Maekar I)    Night's Watch       300.0   \n",
       "7                         Aenys Frey             None       300.0   \n",
       "8                      Aeron Greyjoy    House Greyjoy         NaN   \n",
       "9                             Aethan    Night's Watch         NaN   \n",
       "\n",
       "   Book of Death  Death Chapter  Book Intro Chapter  Gender  Nobility  GoT  \\\n",
       "0            NaN            NaN                56.0       1         1    1   \n",
       "1            3.0           51.0                49.0       1         1    0   \n",
       "2            NaN            NaN                 5.0       1         1    0   \n",
       "3            5.0           20.0                20.0       1         1    0   \n",
       "4            NaN            NaN                 NaN       1         1    0   \n",
       "5            NaN            NaN                 NaN       1         1    0   \n",
       "6            4.0           35.0                21.0       1         1    1   \n",
       "7            5.0            NaN                59.0       0         1    1   \n",
       "8            NaN            NaN                11.0       1         1    0   \n",
       "9            NaN            NaN                 0.0       1         0    0   \n",
       "\n",
       "   CoK  SoS  FfC  DwD  \n",
       "0    1    1    1    0  \n",
       "1    0    1    0    0  \n",
       "2    0    0    0    1  \n",
       "3    0    0    0    1  \n",
       "4    0    1    0    0  \n",
       "5    1    1    0    0  \n",
       "6    0    1    1    0  \n",
       "7    1    1    0    1  \n",
       "8    1    0    1    0  \n",
       "9    0    1    0    0  "
      ]
     },
     "execution_count": 74,
     "metadata": {},
     "output_type": "execute_result"
    }
   ],
   "source": [
    "ten_df=df3.head(10)\n",
    "ten_df.head(10)"
   ]
  },
  {
   "cell_type": "code",
   "execution_count": 75,
   "id": "7b62b5bf",
   "metadata": {},
   "outputs": [],
   "source": [
    "ten_df.set_index(\"Name\",inplace=True)"
   ]
  },
  {
   "cell_type": "markdown",
   "id": "ede65c8b",
   "metadata": {},
   "source": [
    "### Saving processed data frames to CSV File"
   ]
  },
  {
   "cell_type": "code",
   "execution_count": 76,
   "id": "0347d8ce",
   "metadata": {},
   "outputs": [
    {
     "data": {
      "text/html": [
       "<div>\n",
       "<style scoped>\n",
       "    .dataframe tbody tr th:only-of-type {\n",
       "        vertical-align: middle;\n",
       "    }\n",
       "\n",
       "    .dataframe tbody tr th {\n",
       "        vertical-align: top;\n",
       "    }\n",
       "\n",
       "    .dataframe thead th {\n",
       "        text-align: right;\n",
       "    }\n",
       "</style>\n",
       "<table border=\"1\" class=\"dataframe\">\n",
       "  <thead>\n",
       "    <tr style=\"text-align: right;\">\n",
       "      <th></th>\n",
       "      <th>Name</th>\n",
       "      <th>Allegiances</th>\n",
       "      <th>Death Year</th>\n",
       "      <th>Book of Death</th>\n",
       "      <th>Death Chapter</th>\n",
       "      <th>Book Intro Chapter</th>\n",
       "      <th>Gender</th>\n",
       "      <th>Nobility</th>\n",
       "      <th>GoT</th>\n",
       "      <th>CoK</th>\n",
       "      <th>SoS</th>\n",
       "      <th>FfC</th>\n",
       "      <th>DwD</th>\n",
       "    </tr>\n",
       "  </thead>\n",
       "  <tbody>\n",
       "    <tr>\n",
       "      <th>0</th>\n",
       "      <td>Addam Marbrand</td>\n",
       "      <td>Lannister</td>\n",
       "      <td>NaN</td>\n",
       "      <td>NaN</td>\n",
       "      <td>NaN</td>\n",
       "      <td>56.0</td>\n",
       "      <td>1</td>\n",
       "      <td>1</td>\n",
       "      <td>1</td>\n",
       "      <td>1</td>\n",
       "      <td>1</td>\n",
       "      <td>1</td>\n",
       "      <td>0</td>\n",
       "    </tr>\n",
       "    <tr>\n",
       "      <th>1</th>\n",
       "      <td>Aegon Frey (Jinglebell)</td>\n",
       "      <td>None</td>\n",
       "      <td>299.0</td>\n",
       "      <td>3.0</td>\n",
       "      <td>51.0</td>\n",
       "      <td>49.0</td>\n",
       "      <td>1</td>\n",
       "      <td>1</td>\n",
       "      <td>0</td>\n",
       "      <td>0</td>\n",
       "      <td>1</td>\n",
       "      <td>0</td>\n",
       "      <td>0</td>\n",
       "    </tr>\n",
       "    <tr>\n",
       "      <th>2</th>\n",
       "      <td>Aegon Targaryen</td>\n",
       "      <td>House Targaryen</td>\n",
       "      <td>NaN</td>\n",
       "      <td>NaN</td>\n",
       "      <td>NaN</td>\n",
       "      <td>5.0</td>\n",
       "      <td>1</td>\n",
       "      <td>1</td>\n",
       "      <td>0</td>\n",
       "      <td>0</td>\n",
       "      <td>0</td>\n",
       "      <td>0</td>\n",
       "      <td>1</td>\n",
       "    </tr>\n",
       "    <tr>\n",
       "      <th>3</th>\n",
       "      <td>Adrack Humble</td>\n",
       "      <td>House Greyjoy</td>\n",
       "      <td>300.0</td>\n",
       "      <td>5.0</td>\n",
       "      <td>20.0</td>\n",
       "      <td>20.0</td>\n",
       "      <td>1</td>\n",
       "      <td>1</td>\n",
       "      <td>0</td>\n",
       "      <td>0</td>\n",
       "      <td>0</td>\n",
       "      <td>0</td>\n",
       "      <td>1</td>\n",
       "    </tr>\n",
       "    <tr>\n",
       "      <th>4</th>\n",
       "      <td>Aemon Costayne</td>\n",
       "      <td>Lannister</td>\n",
       "      <td>NaN</td>\n",
       "      <td>NaN</td>\n",
       "      <td>NaN</td>\n",
       "      <td>NaN</td>\n",
       "      <td>1</td>\n",
       "      <td>1</td>\n",
       "      <td>0</td>\n",
       "      <td>0</td>\n",
       "      <td>1</td>\n",
       "      <td>0</td>\n",
       "      <td>0</td>\n",
       "    </tr>\n",
       "  </tbody>\n",
       "</table>\n",
       "</div>"
      ],
      "text/plain": [
       "                      Name      Allegiances  Death Year  Book of Death  \\\n",
       "0           Addam Marbrand        Lannister         NaN            NaN   \n",
       "1  Aegon Frey (Jinglebell)             None       299.0            3.0   \n",
       "2          Aegon Targaryen  House Targaryen         NaN            NaN   \n",
       "3            Adrack Humble    House Greyjoy       300.0            5.0   \n",
       "4           Aemon Costayne        Lannister         NaN            NaN   \n",
       "\n",
       "   Death Chapter  Book Intro Chapter  Gender  Nobility  GoT  CoK  SoS  FfC  \\\n",
       "0            NaN                56.0       1         1    1    1    1    1   \n",
       "1           51.0                49.0       1         1    0    0    1    0   \n",
       "2            NaN                 5.0       1         1    0    0    0    0   \n",
       "3           20.0                20.0       1         1    0    0    0    0   \n",
       "4            NaN                 NaN       1         1    0    0    1    0   \n",
       "\n",
       "   DwD  \n",
       "0    0  \n",
       "1    0  \n",
       "2    1  \n",
       "3    1  \n",
       "4    0  "
      ]
     },
     "execution_count": 76,
     "metadata": {},
     "output_type": "execute_result"
    }
   ],
   "source": [
    "ten_df.to_csv(\"result.csv\")\n",
    "result_df=pd.read_csv(\"result.csv\")\n",
    "result_df.head()"
   ]
  },
  {
   "cell_type": "markdown",
   "id": "bb2cd2d3",
   "metadata": {},
   "source": [
    "### Open a file with xls as extension and save it back as a csv file"
   ]
  },
  {
   "cell_type": "code",
   "execution_count": 77,
   "id": "a594792c",
   "metadata": {},
   "outputs": [
    {
     "data": {
      "text/html": [
       "<div>\n",
       "<style scoped>\n",
       "    .dataframe tbody tr th:only-of-type {\n",
       "        vertical-align: middle;\n",
       "    }\n",
       "\n",
       "    .dataframe tbody tr th {\n",
       "        vertical-align: top;\n",
       "    }\n",
       "\n",
       "    .dataframe thead th {\n",
       "        text-align: right;\n",
       "    }\n",
       "</style>\n",
       "<table border=\"1\" class=\"dataframe\">\n",
       "  <thead>\n",
       "    <tr style=\"text-align: right;\">\n",
       "      <th></th>\n",
       "      <th>Name</th>\n",
       "      <th>Regno</th>\n",
       "    </tr>\n",
       "  </thead>\n",
       "  <tbody>\n",
       "    <tr>\n",
       "      <th>0</th>\n",
       "      <td>Sabhari</td>\n",
       "      <td>19BCE1759</td>\n",
       "    </tr>\n",
       "    <tr>\n",
       "      <th>1</th>\n",
       "      <td>Girish</td>\n",
       "      <td>19BCE1000</td>\n",
       "    </tr>\n",
       "  </tbody>\n",
       "</table>\n",
       "</div>"
      ],
      "text/plain": [
       "      Name      Regno\n",
       "0  Sabhari  19BCE1759\n",
       "1   Girish  19BCE1000"
      ]
     },
     "execution_count": 77,
     "metadata": {},
     "output_type": "execute_result"
    }
   ],
   "source": [
    "xsl_df = pd.read_excel('test.xls')\n",
    "xsl_df.head()"
   ]
  },
  {
   "cell_type": "code",
   "execution_count": 78,
   "id": "12077f55",
   "metadata": {},
   "outputs": [
    {
     "data": {
      "text/html": [
       "<div>\n",
       "<style scoped>\n",
       "    .dataframe tbody tr th:only-of-type {\n",
       "        vertical-align: middle;\n",
       "    }\n",
       "\n",
       "    .dataframe tbody tr th {\n",
       "        vertical-align: top;\n",
       "    }\n",
       "\n",
       "    .dataframe thead th {\n",
       "        text-align: right;\n",
       "    }\n",
       "</style>\n",
       "<table border=\"1\" class=\"dataframe\">\n",
       "  <thead>\n",
       "    <tr style=\"text-align: right;\">\n",
       "      <th></th>\n",
       "      <th>Name</th>\n",
       "      <th>Regno</th>\n",
       "    </tr>\n",
       "  </thead>\n",
       "  <tbody>\n",
       "    <tr>\n",
       "      <th>0</th>\n",
       "      <td>Sabhari</td>\n",
       "      <td>19BCE1759</td>\n",
       "    </tr>\n",
       "    <tr>\n",
       "      <th>1</th>\n",
       "      <td>Girish</td>\n",
       "      <td>19BCE1000</td>\n",
       "    </tr>\n",
       "  </tbody>\n",
       "</table>\n",
       "</div>"
      ],
      "text/plain": [
       "      Name      Regno\n",
       "0  Sabhari  19BCE1759\n",
       "1   Girish  19BCE1000"
      ]
     },
     "execution_count": 78,
     "metadata": {},
     "output_type": "execute_result"
    }
   ],
   "source": [
    "xsl_df.to_csv (\"test.csv\", index = None, header=True)\n",
    "csv_df=pd.read_csv('test.csv')\n",
    "csv_df.head()"
   ]
  },
  {
   "cell_type": "markdown",
   "id": "9022f5c0",
   "metadata": {},
   "source": [
    "### Pandas - Operations\n",
    "### Creating index for entities"
   ]
  },
  {
   "cell_type": "code",
   "execution_count": 79,
   "id": "bf56959e",
   "metadata": {
    "scrolled": false
   },
   "outputs": [
    {
     "name": "stdout",
     "output_type": "stream",
     "text": [
      "<bound method NDFrame.head of                            Name      Allegiances  Death Year  Book of Death  \\\n",
      "Gender                                                                        \n",
      "1                Addam Marbrand        Lannister         NaN            NaN   \n",
      "1       Aegon Frey (Jinglebell)             None       299.0            3.0   \n",
      "1               Aegon Targaryen  House Targaryen         NaN            NaN   \n",
      "1                 Adrack Humble    House Greyjoy       300.0            5.0   \n",
      "1                Aemon Costayne        Lannister         NaN            NaN   \n",
      "...                         ...              ...         ...            ...   \n",
      "1                         Zollo             None         NaN            NaN   \n",
      "1             Yurkhaz zo Yunzak             None       300.0            5.0   \n",
      "1              Yezzan Zo Qaggaz             None       300.0            5.0   \n",
      "1              Torwynd the Tame         Wildling       300.0            5.0   \n",
      "1                 Talbert Serry           Tyrell       300.0            4.0   \n",
      "\n",
      "        Death Chapter  Book Intro Chapter  Nobility  GoT  CoK  SoS  FfC  DwD  \n",
      "Gender                                                                        \n",
      "1                 NaN                56.0         1    1    1    1    1    0  \n",
      "1                51.0                49.0         1    0    0    1    0    0  \n",
      "1                 NaN                 5.0         1    0    0    0    0    1  \n",
      "1                20.0                20.0         1    0    0    0    0    1  \n",
      "1                 NaN                 NaN         1    0    0    1    0    0  \n",
      "...               ...                 ...       ...  ...  ...  ...  ...  ...  \n",
      "1                 NaN                21.0         0    0    0    1    0    0  \n",
      "1                59.0                47.0         0    0    0    0    0    1  \n",
      "1                57.0                25.0         1    0    0    0    0    1  \n",
      "1                73.0                73.0         0    0    0    1    0    0  \n",
      "1                29.0                29.0         1    0    0    0    1    0  \n",
      "\n",
      "[917 rows x 12 columns]>\n"
     ]
    }
   ],
   "source": [
    "df2.set_index(\"Gender\",inplace=True)\n",
    "print(df2.head)"
   ]
  },
  {
   "cell_type": "markdown",
   "id": "d73d232a",
   "metadata": {},
   "source": [
    "### ---- End of try yourself ----"
   ]
  },
  {
   "cell_type": "markdown",
   "id": "777e1abc",
   "metadata": {},
   "source": [
    "### Print the information of the dataset"
   ]
  },
  {
   "cell_type": "code",
   "execution_count": 80,
   "id": "3fcaa401",
   "metadata": {},
   "outputs": [
    {
     "name": "stdout",
     "output_type": "stream",
     "text": [
      "Type:\n",
      " <class 'pandas.core.frame.DataFrame'>\n",
      "Information about the dataframe: <bound method DataFrame.info of                            Name      Allegiances  Death Year  Book of Death  \\\n",
      "Gender                                                                        \n",
      "1                Addam Marbrand        Lannister         NaN            NaN   \n",
      "1       Aegon Frey (Jinglebell)             None       299.0            3.0   \n",
      "1               Aegon Targaryen  House Targaryen         NaN            NaN   \n",
      "1                 Adrack Humble    House Greyjoy       300.0            5.0   \n",
      "1                Aemon Costayne        Lannister         NaN            NaN   \n",
      "...                         ...              ...         ...            ...   \n",
      "1                         Zollo             None         NaN            NaN   \n",
      "1             Yurkhaz zo Yunzak             None       300.0            5.0   \n",
      "1              Yezzan Zo Qaggaz             None       300.0            5.0   \n",
      "1              Torwynd the Tame         Wildling       300.0            5.0   \n",
      "1                 Talbert Serry           Tyrell       300.0            4.0   \n",
      "\n",
      "        Death Chapter  Book Intro Chapter  Nobility  GoT  CoK  SoS  FfC  DwD  \n",
      "Gender                                                                        \n",
      "1                 NaN                56.0         1    1    1    1    1    0  \n",
      "1                51.0                49.0         1    0    0    1    0    0  \n",
      "1                 NaN                 5.0         1    0    0    0    0    1  \n",
      "1                20.0                20.0         1    0    0    0    0    1  \n",
      "1                 NaN                 NaN         1    0    0    1    0    0  \n",
      "...               ...                 ...       ...  ...  ...  ...  ...  ...  \n",
      "1                 NaN                21.0         0    0    0    1    0    0  \n",
      "1                59.0                47.0         0    0    0    0    0    1  \n",
      "1                57.0                25.0         1    0    0    0    0    1  \n",
      "1                73.0                73.0         0    0    0    1    0    0  \n",
      "1                29.0                29.0         1    0    0    0    1    0  \n",
      "\n",
      "[917 rows x 12 columns]>\n"
     ]
    }
   ],
   "source": [
    "print(\"Type:\\n\",type(df2))\n",
    "print(\"Information about the dataframe:\",df2.info)"
   ]
  },
  {
   "cell_type": "markdown",
   "id": "8588342b",
   "metadata": {},
   "source": [
    "### Drop the duplicates and print the shape of the dataset"
   ]
  },
  {
   "cell_type": "code",
   "execution_count": 81,
   "id": "5a7f8f31",
   "metadata": {},
   "outputs": [
    {
     "name": "stdout",
     "output_type": "stream",
     "text": [
      "Shape of datafframe: (917, 12)\n",
      "(917, 12)\n"
     ]
    }
   ],
   "source": [
    "print(\"Shape of datafframe:\",df2.shape)\n",
    "df2.drop_duplicates()\n",
    "print(df2.shape)"
   ]
  },
  {
   "cell_type": "markdown",
   "id": "fe449e49",
   "metadata": {},
   "source": [
    "## Try it yourself:\n",
    "### Append same data in df2 to df2 itself using append function\n",
    "### print its shape\n",
    "### Use drop_duplicates to remove duplicate\n",
    "### print shape again"
   ]
  },
  {
   "cell_type": "code",
   "execution_count": 82,
   "id": "1c996fe3",
   "metadata": {},
   "outputs": [
    {
     "data": {
      "text/plain": [
       "(200, 12)"
      ]
     },
     "execution_count": 82,
     "metadata": {},
     "output_type": "execute_result"
    }
   ],
   "source": [
    "df21 = df2.sample(n=200)\n",
    "df21.shape"
   ]
  },
  {
   "cell_type": "code",
   "execution_count": 83,
   "id": "0651b1c6",
   "metadata": {},
   "outputs": [
    {
     "data": {
      "text/html": [
       "<div>\n",
       "<style scoped>\n",
       "    .dataframe tbody tr th:only-of-type {\n",
       "        vertical-align: middle;\n",
       "    }\n",
       "\n",
       "    .dataframe tbody tr th {\n",
       "        vertical-align: top;\n",
       "    }\n",
       "\n",
       "    .dataframe thead th {\n",
       "        text-align: right;\n",
       "    }\n",
       "</style>\n",
       "<table border=\"1\" class=\"dataframe\">\n",
       "  <thead>\n",
       "    <tr style=\"text-align: right;\">\n",
       "      <th></th>\n",
       "      <th>Name</th>\n",
       "      <th>Allegiances</th>\n",
       "      <th>Death Year</th>\n",
       "      <th>Book of Death</th>\n",
       "      <th>Death Chapter</th>\n",
       "      <th>Book Intro Chapter</th>\n",
       "      <th>Nobility</th>\n",
       "      <th>GoT</th>\n",
       "      <th>CoK</th>\n",
       "      <th>SoS</th>\n",
       "      <th>FfC</th>\n",
       "      <th>DwD</th>\n",
       "    </tr>\n",
       "    <tr>\n",
       "      <th>Gender</th>\n",
       "      <th></th>\n",
       "      <th></th>\n",
       "      <th></th>\n",
       "      <th></th>\n",
       "      <th></th>\n",
       "      <th></th>\n",
       "      <th></th>\n",
       "      <th></th>\n",
       "      <th></th>\n",
       "      <th></th>\n",
       "      <th></th>\n",
       "      <th></th>\n",
       "    </tr>\n",
       "  </thead>\n",
       "  <tbody>\n",
       "    <tr>\n",
       "      <th>1</th>\n",
       "      <td>Grenn</td>\n",
       "      <td>Night's Watch</td>\n",
       "      <td>NaN</td>\n",
       "      <td>NaN</td>\n",
       "      <td>NaN</td>\n",
       "      <td>19.0</td>\n",
       "      <td>0</td>\n",
       "      <td>1</td>\n",
       "      <td>1</td>\n",
       "      <td>1</td>\n",
       "      <td>1</td>\n",
       "      <td>1</td>\n",
       "    </tr>\n",
       "    <tr>\n",
       "      <th>1</th>\n",
       "      <td>Urswyck</td>\n",
       "      <td>None</td>\n",
       "      <td>NaN</td>\n",
       "      <td>NaN</td>\n",
       "      <td>NaN</td>\n",
       "      <td>21.0</td>\n",
       "      <td>0</td>\n",
       "      <td>0</td>\n",
       "      <td>0</td>\n",
       "      <td>1</td>\n",
       "      <td>0</td>\n",
       "      <td>0</td>\n",
       "    </tr>\n",
       "    <tr>\n",
       "      <th>1</th>\n",
       "      <td>Axell Florent</td>\n",
       "      <td>Baratheon</td>\n",
       "      <td>NaN</td>\n",
       "      <td>NaN</td>\n",
       "      <td>NaN</td>\n",
       "      <td>0.0</td>\n",
       "      <td>1</td>\n",
       "      <td>0</td>\n",
       "      <td>1</td>\n",
       "      <td>1</td>\n",
       "      <td>0</td>\n",
       "      <td>1</td>\n",
       "    </tr>\n",
       "    <tr>\n",
       "      <th>1</th>\n",
       "      <td>The Red Lamb</td>\n",
       "      <td>House Targaryen</td>\n",
       "      <td>NaN</td>\n",
       "      <td>NaN</td>\n",
       "      <td>NaN</td>\n",
       "      <td>67.0</td>\n",
       "      <td>0</td>\n",
       "      <td>0</td>\n",
       "      <td>0</td>\n",
       "      <td>0</td>\n",
       "      <td>0</td>\n",
       "      <td>1</td>\n",
       "    </tr>\n",
       "    <tr>\n",
       "      <th>0</th>\n",
       "      <td>Barbrey Dustin</td>\n",
       "      <td>Stark</td>\n",
       "      <td>NaN</td>\n",
       "      <td>NaN</td>\n",
       "      <td>NaN</td>\n",
       "      <td>26.0</td>\n",
       "      <td>1</td>\n",
       "      <td>0</td>\n",
       "      <td>0</td>\n",
       "      <td>0</td>\n",
       "      <td>0</td>\n",
       "      <td>1</td>\n",
       "    </tr>\n",
       "  </tbody>\n",
       "</table>\n",
       "</div>"
      ],
      "text/plain": [
       "                  Name      Allegiances  Death Year  Book of Death  \\\n",
       "Gender                                                               \n",
       "1                Grenn    Night's Watch         NaN            NaN   \n",
       "1              Urswyck             None         NaN            NaN   \n",
       "1        Axell Florent        Baratheon         NaN            NaN   \n",
       "1         The Red Lamb  House Targaryen         NaN            NaN   \n",
       "0       Barbrey Dustin            Stark         NaN            NaN   \n",
       "\n",
       "        Death Chapter  Book Intro Chapter  Nobility  GoT  CoK  SoS  FfC  DwD  \n",
       "Gender                                                                        \n",
       "1                 NaN                19.0         0    1    1    1    1    1  \n",
       "1                 NaN                21.0         0    0    0    1    0    0  \n",
       "1                 NaN                 0.0         1    0    1    1    0    1  \n",
       "1                 NaN                67.0         0    0    0    0    0    1  \n",
       "0                 NaN                26.0         1    0    0    0    0    1  "
      ]
     },
     "execution_count": 83,
     "metadata": {},
     "output_type": "execute_result"
    }
   ],
   "source": [
    "df21.head()"
   ]
  },
  {
   "cell_type": "code",
   "execution_count": 84,
   "id": "98213d99",
   "metadata": {},
   "outputs": [
    {
     "name": "stdout",
     "output_type": "stream",
     "text": [
      "Shape of datafframe: (1117, 12)\n"
     ]
    }
   ],
   "source": [
    "df2=df2.append(df21)\n",
    "print(\"Shape of datafframe:\",df2.shape)"
   ]
  },
  {
   "cell_type": "code",
   "execution_count": 85,
   "id": "fab7ea14",
   "metadata": {},
   "outputs": [
    {
     "name": "stdout",
     "output_type": "stream",
     "text": [
      "(917, 12)\n"
     ]
    }
   ],
   "source": [
    "df2=df2.drop_duplicates()\n",
    "print(df2.shape)"
   ]
  },
  {
   "cell_type": "markdown",
   "id": "0cd56a32",
   "metadata": {},
   "source": [
    "### Print the columns of the dataset"
   ]
  },
  {
   "cell_type": "code",
   "execution_count": 86,
   "id": "5d7a0bc2",
   "metadata": {},
   "outputs": [
    {
     "name": "stdout",
     "output_type": "stream",
     "text": [
      "Columns of dataframe:\t Index(['Name', 'Allegiances', 'Death Year', 'Book of Death', 'Death Chapter',\n",
      "       'Book Intro Chapter', 'Nobility', 'GoT', 'CoK', 'SoS', 'FfC', 'DwD'],\n",
      "      dtype='object')\n"
     ]
    }
   ],
   "source": [
    "print(\"Columns of dataframe:\\t\",df2.columns)"
   ]
  },
  {
   "cell_type": "markdown",
   "id": "262acd93",
   "metadata": {},
   "source": [
    "### Rename a column in the dataset and print the descriotion of the dataset"
   ]
  },
  {
   "cell_type": "code",
   "execution_count": 87,
   "id": "8df4d25e",
   "metadata": {},
   "outputs": [
    {
     "name": "stdout",
     "output_type": "stream",
     "text": [
      "Columns of dataframe:\t Index(['Name', 'Allegiances', 'Death Year', 'BoD', 'Death Chapter',\n",
      "       'Book Intro Chapter', 'Nobility', 'GoT', 'CoK', 'SoS', 'FfC', 'DwD'],\n",
      "      dtype='object')\n"
     ]
    }
   ],
   "source": [
    "df2.rename(columns={'Book of Death':'BoD'},inplace=True)\n",
    "print(\"Columns of dataframe:\\t\",df2.columns)"
   ]
  },
  {
   "cell_type": "code",
   "execution_count": 88,
   "id": "4080c74d",
   "metadata": {},
   "outputs": [
    {
     "name": "stdout",
     "output_type": "stream",
     "text": [
      "       Death Year         BoD  Death Chapter  Book Intro Chapter    Nobility  \\\n",
      "count  305.000000  307.000000     299.000000          905.000000  917.000000   \n",
      "mean   299.157377    2.928339      40.070234           28.861878    0.468920   \n",
      "std      0.703483    1.326482      20.470270           20.165788    0.499305   \n",
      "min    297.000000    1.000000       0.000000            0.000000    0.000000   \n",
      "25%    299.000000    2.000000      25.500000           11.000000    0.000000   \n",
      "50%    299.000000    3.000000      39.000000           27.000000    0.000000   \n",
      "75%    300.000000    4.000000      57.000000           43.000000    1.000000   \n",
      "max    300.000000    5.000000      80.000000           80.000000    1.000000   \n",
      "\n",
      "              GoT         CoK         SoS         FfC         DwD  \n",
      "count  917.000000  917.000000  917.000000  917.000000  917.000000  \n",
      "mean     0.272628    0.353326    0.424209    0.272628    0.284624  \n",
      "std      0.445554    0.478264    0.494492    0.445554    0.451481  \n",
      "min      0.000000    0.000000    0.000000    0.000000    0.000000  \n",
      "25%      0.000000    0.000000    0.000000    0.000000    0.000000  \n",
      "50%      0.000000    0.000000    0.000000    0.000000    0.000000  \n",
      "75%      1.000000    1.000000    1.000000    1.000000    1.000000  \n",
      "max      1.000000    1.000000    1.000000    1.000000    1.000000  \n"
     ]
    }
   ],
   "source": [
    "print(df2.describe())"
   ]
  },
  {
   "cell_type": "markdown",
   "id": "3b90deff",
   "metadata": {},
   "source": [
    "### Use count(), nunique(), unique() functions of pandas dataframe"
   ]
  },
  {
   "cell_type": "code",
   "execution_count": 89,
   "id": "d9a86036",
   "metadata": {},
   "outputs": [
    {
     "name": "stdout",
     "output_type": "stream",
     "text": [
      "No. of chapters talking about death:\t 299\n",
      "No. of unique chapters talking about death:\t 71\n",
      "Unique chapters talking about death:\t [nan 51. 20. 35. 56.  4. 46. 10. 34. 47. 41. 21. 33. 39. 52. 37. 24. 31.\n",
      " 27. 62. 65.  7. 49. 50. 42. 30. 66. 64. 29.  0. 53. 58. 76. 63. 55. 14.\n",
      " 61. 12. 68. 69. 80. 36.  1. 19. 72. 59. 43. 70. 75. 11.  3. 60. 26. 44.\n",
      " 67. 45. 18. 23. 57. 25. 16. 17. 48.  9.  2.  6. 32. 77. 74. 40. 38. 73.]\n"
     ]
    }
   ],
   "source": [
    "print(\"No. of chapters talking about death:\\t\",df2['Death Chapter'].count())\n",
    "print(\"No. of unique chapters talking about death:\\t\",df2['Death Chapter'].nunique())\n",
    "print(\"Unique chapters talking about death:\\t\",df2['Death Chapter'].unique())"
   ]
  },
  {
   "cell_type": "markdown",
   "id": "4a844f55",
   "metadata": {},
   "source": [
    "### Use iloc functions"
   ]
  },
  {
   "cell_type": "code",
   "execution_count": 90,
   "id": "34a32ffc",
   "metadata": {},
   "outputs": [
    {
     "name": "stdout",
     "output_type": "stream",
     "text": [
      "Name                  Aemon Costayne\n",
      "Allegiances                Lannister\n",
      "Death Year                       NaN\n",
      "BoD                              NaN\n",
      "Death Chapter                    NaN\n",
      "Book Intro Chapter               NaN\n",
      "Nobility                           1\n",
      "GoT                                0\n",
      "CoK                                0\n",
      "SoS                                1\n",
      "FfC                                0\n",
      "DwD                                0\n",
      "Name: 1, dtype: object\n",
      "        Death Year  Death Chapter\n",
      "Gender                           \n",
      "1              NaN            NaN\n",
      "1            300.0           20.0\n",
      "1              NaN            NaN\n",
      "1              NaN            NaN\n",
      "            Allegiances  Death Year\n",
      "Gender                             \n",
      "1             Lannister         NaN\n",
      "1                  None       299.0\n",
      "1       House Targaryen         NaN\n",
      "1         House Greyjoy       300.0\n",
      "1             Lannister         NaN\n"
     ]
    }
   ],
   "source": [
    "print(df2.iloc[4])\n",
    "print(df2.iloc[[2,3,4,5], [2,4]])\n",
    "print(df2.iloc[:5, 1:3])"
   ]
  },
  {
   "cell_type": "code",
   "execution_count": 91,
   "id": "7b7280d0",
   "metadata": {},
   "outputs": [
    {
     "name": "stdout",
     "output_type": "stream",
     "text": [
      "First five values of 'Allegiances' column\t:\n",
      " Gender\n",
      "1             Addam Marbrand\n",
      "1    Aegon Frey (Jinglebell)\n",
      "1            Aegon Targaryen\n",
      "1              Adrack Humble\n",
      "1             Aemon Costayne\n",
      "Name: Name, dtype: object\n"
     ]
    }
   ],
   "source": [
    "print(\"First five values of 'Allegiances' column\\t:\\n\",df2.iloc[0:5,0])"
   ]
  },
  {
   "cell_type": "markdown",
   "id": "9594f941",
   "metadata": {},
   "source": [
    "### Reset the index, print the head and again set the index as name and print the data"
   ]
  },
  {
   "cell_type": "code",
   "execution_count": 92,
   "id": "1acb3437",
   "metadata": {},
   "outputs": [
    {
     "data": {
      "text/html": [
       "<div>\n",
       "<style scoped>\n",
       "    .dataframe tbody tr th:only-of-type {\n",
       "        vertical-align: middle;\n",
       "    }\n",
       "\n",
       "    .dataframe tbody tr th {\n",
       "        vertical-align: top;\n",
       "    }\n",
       "\n",
       "    .dataframe thead th {\n",
       "        text-align: right;\n",
       "    }\n",
       "</style>\n",
       "<table border=\"1\" class=\"dataframe\">\n",
       "  <thead>\n",
       "    <tr style=\"text-align: right;\">\n",
       "      <th></th>\n",
       "      <th>Gender</th>\n",
       "      <th>Name</th>\n",
       "      <th>Allegiances</th>\n",
       "      <th>Death Year</th>\n",
       "      <th>BoD</th>\n",
       "      <th>Death Chapter</th>\n",
       "      <th>Book Intro Chapter</th>\n",
       "      <th>Nobility</th>\n",
       "      <th>GoT</th>\n",
       "      <th>CoK</th>\n",
       "      <th>SoS</th>\n",
       "      <th>FfC</th>\n",
       "      <th>DwD</th>\n",
       "    </tr>\n",
       "  </thead>\n",
       "  <tbody>\n",
       "    <tr>\n",
       "      <th>0</th>\n",
       "      <td>1</td>\n",
       "      <td>Addam Marbrand</td>\n",
       "      <td>Lannister</td>\n",
       "      <td>NaN</td>\n",
       "      <td>NaN</td>\n",
       "      <td>NaN</td>\n",
       "      <td>56.0</td>\n",
       "      <td>1</td>\n",
       "      <td>1</td>\n",
       "      <td>1</td>\n",
       "      <td>1</td>\n",
       "      <td>1</td>\n",
       "      <td>0</td>\n",
       "    </tr>\n",
       "    <tr>\n",
       "      <th>1</th>\n",
       "      <td>1</td>\n",
       "      <td>Aegon Frey (Jinglebell)</td>\n",
       "      <td>None</td>\n",
       "      <td>299.0</td>\n",
       "      <td>3.0</td>\n",
       "      <td>51.0</td>\n",
       "      <td>49.0</td>\n",
       "      <td>1</td>\n",
       "      <td>0</td>\n",
       "      <td>0</td>\n",
       "      <td>1</td>\n",
       "      <td>0</td>\n",
       "      <td>0</td>\n",
       "    </tr>\n",
       "    <tr>\n",
       "      <th>2</th>\n",
       "      <td>1</td>\n",
       "      <td>Aegon Targaryen</td>\n",
       "      <td>House Targaryen</td>\n",
       "      <td>NaN</td>\n",
       "      <td>NaN</td>\n",
       "      <td>NaN</td>\n",
       "      <td>5.0</td>\n",
       "      <td>1</td>\n",
       "      <td>0</td>\n",
       "      <td>0</td>\n",
       "      <td>0</td>\n",
       "      <td>0</td>\n",
       "      <td>1</td>\n",
       "    </tr>\n",
       "  </tbody>\n",
       "</table>\n",
       "</div>"
      ],
      "text/plain": [
       "   Gender                     Name      Allegiances  Death Year  BoD  \\\n",
       "0       1           Addam Marbrand        Lannister         NaN  NaN   \n",
       "1       1  Aegon Frey (Jinglebell)             None       299.0  3.0   \n",
       "2       1          Aegon Targaryen  House Targaryen         NaN  NaN   \n",
       "\n",
       "   Death Chapter  Book Intro Chapter  Nobility  GoT  CoK  SoS  FfC  DwD  \n",
       "0            NaN                56.0         1    1    1    1    1    0  \n",
       "1           51.0                49.0         1    0    0    1    0    0  \n",
       "2            NaN                 5.0         1    0    0    0    0    1  "
      ]
     },
     "execution_count": 92,
     "metadata": {},
     "output_type": "execute_result"
    }
   ],
   "source": [
    "df2.reset_index(inplace=True)\n",
    "df2.head(3)"
   ]
  },
  {
   "cell_type": "code",
   "execution_count": 93,
   "id": "73e36bac",
   "metadata": {},
   "outputs": [
    {
     "name": "stdout",
     "output_type": "stream",
     "text": [
      "                         Gender      Allegiances  Death Year  BoD  \\\n",
      "Name                                                                \n",
      "Addam Marbrand                1        Lannister         NaN  NaN   \n",
      "Aegon Frey (Jinglebell)       1             None       299.0  3.0   \n",
      "Aegon Targaryen               1  House Targaryen         NaN  NaN   \n",
      "Adrack Humble                 1    House Greyjoy       300.0  5.0   \n",
      "Aemon Costayne                1        Lannister         NaN  NaN   \n",
      "\n",
      "                         Death Chapter  Book Intro Chapter  Nobility  GoT  \\\n",
      "Name                                                                        \n",
      "Addam Marbrand                     NaN                56.0         1    1   \n",
      "Aegon Frey (Jinglebell)           51.0                49.0         1    0   \n",
      "Aegon Targaryen                    NaN                 5.0         1    0   \n",
      "Adrack Humble                     20.0                20.0         1    0   \n",
      "Aemon Costayne                     NaN                 NaN         1    0   \n",
      "\n",
      "                         CoK  SoS  FfC  DwD  \n",
      "Name                                         \n",
      "Addam Marbrand             1    1    1    0  \n",
      "Aegon Frey (Jinglebell)    0    1    0    0  \n",
      "Aegon Targaryen            0    0    0    1  \n",
      "Adrack Humble              0    0    0    1  \n",
      "Aemon Costayne             0    1    0    0  \n",
      "\n",
      "\n",
      "Using loc method:\t 300.0\n"
     ]
    }
   ],
   "source": [
    "df2.set_index('Name',inplace=True)\n",
    "print(df2.head())\n",
    "print(\"\\n\\nUsing loc method:\\t\",df2.loc['Adrack Humble','Death Year'])"
   ]
  },
  {
   "cell_type": "markdown",
   "id": "1baec86d",
   "metadata": {},
   "source": [
    "### Print the names and detials of the people where death year<4000"
   ]
  },
  {
   "cell_type": "code",
   "execution_count": 94,
   "id": "0b22ad9d",
   "metadata": {},
   "outputs": [
    {
     "name": "stdout",
     "output_type": "stream",
     "text": [
      "                                   Gender    Allegiances  Death Year  BoD  \\\n",
      "Name                                                                        \n",
      "Aegon Frey (Jinglebell)                 1           None       299.0  3.0   \n",
      "Adrack Humble                           1  House Greyjoy       300.0  5.0   \n",
      "Aemon Targaryen (son of Maekar I)       1  Night's Watch       300.0  4.0   \n",
      "Aenys Frey                              0           None       300.0  5.0   \n",
      "Aggar                                   1  House Greyjoy       299.0  2.0   \n",
      "...                                   ...            ...         ...  ...   \n",
      "Young Henly                             1  Night's Watch       299.0  3.0   \n",
      "Yurkhaz zo Yunzak                       1           None       300.0  5.0   \n",
      "Yezzan Zo Qaggaz                        1           None       300.0  5.0   \n",
      "Torwynd the Tame                        1       Wildling       300.0  5.0   \n",
      "Talbert Serry                           1         Tyrell       300.0  4.0   \n",
      "\n",
      "                                   Death Chapter  Book Intro Chapter  \\\n",
      "Name                                                                   \n",
      "Aegon Frey (Jinglebell)                     51.0                49.0   \n",
      "Adrack Humble                               20.0                20.0   \n",
      "Aemon Targaryen (son of Maekar I)           35.0                21.0   \n",
      "Aenys Frey                                   NaN                59.0   \n",
      "Aggar                                       56.0                50.0   \n",
      "...                                          ...                 ...   \n",
      "Young Henly                                 55.0                55.0   \n",
      "Yurkhaz zo Yunzak                           59.0                47.0   \n",
      "Yezzan Zo Qaggaz                            57.0                25.0   \n",
      "Torwynd the Tame                            73.0                73.0   \n",
      "Talbert Serry                               29.0                29.0   \n",
      "\n",
      "                                   Nobility  GoT  CoK  SoS  FfC  DwD  \n",
      "Name                                                                  \n",
      "Aegon Frey (Jinglebell)                   1    0    0    1    0    0  \n",
      "Adrack Humble                             1    0    0    0    0    1  \n",
      "Aemon Targaryen (son of Maekar I)         1    1    0    1    1    0  \n",
      "Aenys Frey                                1    1    1    1    0    1  \n",
      "Aggar                                     0    0    1    0    0    0  \n",
      "...                                     ...  ...  ...  ...  ...  ...  \n",
      "Young Henly                               0    0    0    1    0    0  \n",
      "Yurkhaz zo Yunzak                         0    0    0    0    0    1  \n",
      "Yezzan Zo Qaggaz                          1    0    0    0    0    1  \n",
      "Torwynd the Tame                          0    0    0    1    0    0  \n",
      "Talbert Serry                             1    0    0    0    1    0  \n",
      "\n",
      "[305 rows x 12 columns]\n"
     ]
    }
   ],
   "source": [
    "df3 = df2['Death Year']<400\n",
    "df4 = df2[df3]\n",
    "print(df4)"
   ]
  },
  {
   "cell_type": "markdown",
   "id": "a2b8be6b",
   "metadata": {},
   "source": [
    "### Group the dataset by the colum Death year"
   ]
  },
  {
   "cell_type": "code",
   "execution_count": 95,
   "id": "863d2dbe",
   "metadata": {},
   "outputs": [
    {
     "name": "stdout",
     "output_type": "stream",
     "text": [
      "            Death Year  Gender\n",
      "Death Year                    \n",
      "297.0            891.0       3\n",
      "298.0          13708.0      43\n",
      "299.0          46644.0     141\n",
      "300.0          30000.0      82\n"
     ]
    }
   ],
   "source": [
    "df5 = df2.groupby(\"Death Year\").agg({\"Death Year\":np.sum,\"Gender\":np.sum})\n",
    "print(df5)"
   ]
  },
  {
   "cell_type": "markdown",
   "id": "088203d5",
   "metadata": {},
   "source": [
    "### Plot the data set with 'Death year' as X-scale and 'Gender' as Y-scale"
   ]
  },
  {
   "cell_type": "code",
   "execution_count": 97,
   "id": "6291cd20",
   "metadata": {},
   "outputs": [
    {
     "data": {
      "text/plain": [
       "<AxesSubplot:xlabel='Death Year'>"
      ]
     },
     "execution_count": 97,
     "metadata": {},
     "output_type": "execute_result"
    },
    {
     "data": {
      "image/png": "[encoded data removed]",
      "text/plain": [
       "<Figure size 432x288 with 1 Axes>"
      ]
     },
     "metadata": {
      "needs_background": "light"
     },
     "output_type": "display_data"
    },
    {
     "data": {
      "image/png": "[encoded data removed]",
      "text/plain": [
       "<Figure size 432x288 with 1 Axes>"
      ]
     },
     "metadata": {
      "needs_background": "light"
     },
     "output_type": "display_data"
    }
   ],
   "source": [
    "df5.plot(x='Death Year',y='Gender',kind='scatter')\n",
    "df5.plot(x='Death Year',y='Gender')"
   ]
  },
  {
   "cell_type": "code",
   "execution_count": null,
   "id": "8b35b8c4",
   "metadata": {},
   "outputs": [],
   "source": []
  }
 ],
 "metadata": {
  "kernelspec": {
   "display_name": "Python 3",
   "language": "python",
   "name": "python3"
  },
  "language_info": {
   "codemirror_mode": {
    "name": "ipython",
    "version": 3
   },
   "file_extension": ".py",
   "mimetype": "text/x-python",
   "name": "python",
   "nbconvert_exporter": "python",
   "pygments_lexer": "ipython3",
   "version": "3.9.6"
  }
 },
 "nbformat": 4,
 "nbformat_minor": 5
}
